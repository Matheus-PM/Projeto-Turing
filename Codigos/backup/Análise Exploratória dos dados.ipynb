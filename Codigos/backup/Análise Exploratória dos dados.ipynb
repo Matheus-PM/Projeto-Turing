{
  "nbformat": 4,
  "nbformat_minor": 0,
  "metadata": {
    "colab": {
      "provenance": [],
      "collapsed_sections": [
        "4C4rR-j12yj7"
      ],
      "authorship_tag": "ABX9TyO3D9IjH1C9yuid33nv+nhp",
      "include_colab_link": true
    },
    "kernelspec": {
      "name": "python3",
      "display_name": "Python 3"
    },
    "language_info": {
      "name": "python"
    }
  },
  "cells": [
    {
      "cell_type": "markdown",
      "metadata": {
        "id": "view-in-github",
        "colab_type": "text"
      },
      "source": [
        "<a href=\"https://colab.research.google.com/github/kauebr/Projeto-Turing/blob/main/An%C3%A1lise%20Explorat%C3%B3ria%20dos%20dados.ipynb\" target=\"_parent\"><img src=\"https://colab.research.google.com/assets/colab-badge.svg\" alt=\"Open In Colab\"/></a>"
      ]
    },
    {
      "cell_type": "markdown",
      "source": [
        "# 📊 Análise Exploratória dos Dados do SUS  \n",
        "**Objetivo:** Higienização e compreensão dos dados, com foco na variável-alvo `CIRCOBITO = 2`.\n",
        "\n",
        "---\n",
        "\n",
        "# 🧪 Metodologia\n",
        "\n",
        "1. **Conexão com a Base de Dados**\n",
        "   - Utilizar a biblioteca `pysus` para acessar os dados públicos do SUS.\n",
        "\n",
        "2. **Análise Exploratória dos Dados (EDA)**\n",
        "   - Mapear as relações entre **todas as colunas** da base.\n",
        "   - Identificar padrões, inconsistências e possíveis outliers.\n",
        "\n",
        "3. **Coeficientes de Correlação**\n",
        "   - Calcular o grau de relação de **todas as variáveis** com a variável-alvo `CIRCOBITO = 2`.\n",
        "   - Gerar documento para facilitar a tomada de decisão na modelagem preditiva.\n",
        "\n",
        "4. **Divulgação**\n",
        "   - Preparar visualizações e insights obtidos na análise para **divulgação no LinkedIn** do projeto.\n",
        "\n",
        "---\n"
      ],
      "metadata": {
        "id": "Cl7OaxSG0INZ"
      }
    },
    {
      "cell_type": "markdown",
      "source": [],
      "metadata": {
        "id": "-lBdn7iK2koN"
      }
    },
    {
      "cell_type": "markdown",
      "source": [
        "## 📥 Instalação do ecossistema necessário"
      ],
      "metadata": {
        "id": "4C4rR-j12yj7"
      }
    },
    {
      "cell_type": "code",
      "source": [
        "!pip install pysus"
      ],
      "metadata": {
        "colab": {
          "base_uri": "https://localhost:8080/"
        },
        "id": "HSKR_rC63BSp",
        "outputId": "6b193ac2-23fc-4186-915d-2047a799afa2"
      },
      "execution_count": 1,
      "outputs": [
        {
          "output_type": "stream",
          "name": "stdout",
          "text": [
            "Requirement already satisfied: pysus in /usr/local/lib/python3.11/dist-packages (1.0.0)\n",
            "Requirement already satisfied: Unidecode<2.0.0,>=1.3.6 in /usr/local/lib/python3.11/dist-packages (from pysus) (1.4.0)\n",
            "Requirement already satisfied: aioftp<0.22.0,>=0.21.4 in /usr/local/lib/python3.11/dist-packages (from pysus) (0.21.4)\n",
            "Requirement already satisfied: bigtree<0.13.0,>=0.12.2 in /usr/local/lib/python3.11/dist-packages (from pysus) (0.12.5)\n",
            "Requirement already satisfied: dateparser<2.0.0,>=1.1.8 in /usr/local/lib/python3.11/dist-packages (from pysus) (1.2.1)\n",
            "Requirement already satisfied: dbfread==2.0.7 in /usr/local/lib/python3.11/dist-packages (from pysus) (2.0.7)\n",
            "Requirement already satisfied: elasticsearch==7.16.2 in /usr/local/lib/python3.11/dist-packages (from elasticsearch[preprocessing]==7.16.2->pysus) (7.16.2)\n",
            "Requirement already satisfied: fastparquet<=2024.11.0,>=2023.10.1 in /usr/local/lib/python3.11/dist-packages (from pysus) (2024.11.0)\n",
            "Requirement already satisfied: humanize<5.0.0,>=4.8.0 in /usr/local/lib/python3.11/dist-packages (from pysus) (4.12.3)\n",
            "Requirement already satisfied: loguru<0.7.0,>=0.6.0 in /usr/local/lib/python3.11/dist-packages (from pysus) (0.6.0)\n",
            "Requirement already satisfied: numpy<3,>1 in /usr/local/lib/python3.11/dist-packages (from pysus) (2.0.2)\n",
            "Requirement already satisfied: pandas<3.0.0,>=2.2.2 in /usr/local/lib/python3.11/dist-packages (from pysus) (2.2.2)\n",
            "Requirement already satisfied: pyarrow>=11.0.0 in /usr/local/lib/python3.11/dist-packages (from pysus) (18.1.0)\n",
            "Requirement already satisfied: pycparser==2.21 in /usr/local/lib/python3.11/dist-packages (from pysus) (2.21)\n",
            "Requirement already satisfied: pyreaddbc>=1.1.0 in /usr/local/lib/python3.11/dist-packages (from pysus) (1.2.0)\n",
            "Requirement already satisfied: python-dateutil==2.8.2 in /usr/local/lib/python3.11/dist-packages (from pysus) (2.8.2)\n",
            "Requirement already satisfied: tqdm==4.64.0 in /usr/local/lib/python3.11/dist-packages (from pysus) (4.64.0)\n",
            "Requirement already satisfied: typing-extensions<5.0.0,>=4.9.0 in /usr/local/lib/python3.11/dist-packages (from pysus) (4.14.0)\n",
            "Requirement already satisfied: urwid<3.0.0,>=2.1.2 in /usr/local/lib/python3.11/dist-packages (from pysus) (2.6.16)\n",
            "Requirement already satisfied: wget<4.0,>=3.2 in /usr/local/lib/python3.11/dist-packages (from pysus) (3.2)\n",
            "Requirement already satisfied: urllib3<2,>=1.21.1 in /usr/local/lib/python3.11/dist-packages (from elasticsearch==7.16.2->elasticsearch[preprocessing]==7.16.2->pysus) (1.26.20)\n",
            "Requirement already satisfied: certifi in /usr/local/lib/python3.11/dist-packages (from elasticsearch==7.16.2->elasticsearch[preprocessing]==7.16.2->pysus) (2025.6.15)\n",
            "\u001b[33mWARNING: elasticsearch 7.16.2 does not provide the extra 'preprocessing'\u001b[0m\u001b[33m\n",
            "\u001b[0mRequirement already satisfied: six>=1.5 in /usr/local/lib/python3.11/dist-packages (from python-dateutil==2.8.2->pysus) (1.17.0)\n",
            "Requirement already satisfied: pytz>=2024.2 in /usr/local/lib/python3.11/dist-packages (from dateparser<2.0.0,>=1.1.8->pysus) (2025.2)\n",
            "Requirement already satisfied: regex!=2019.02.19,!=2021.8.27,>=2015.06.24 in /usr/local/lib/python3.11/dist-packages (from dateparser<2.0.0,>=1.1.8->pysus) (2024.11.6)\n",
            "Requirement already satisfied: tzlocal>=0.2 in /usr/local/lib/python3.11/dist-packages (from dateparser<2.0.0,>=1.1.8->pysus) (5.3.1)\n",
            "Requirement already satisfied: cramjam>=2.3 in /usr/local/lib/python3.11/dist-packages (from fastparquet<=2024.11.0,>=2023.10.1->pysus) (2.10.0)\n",
            "Requirement already satisfied: fsspec in /usr/local/lib/python3.11/dist-packages (from fastparquet<=2024.11.0,>=2023.10.1->pysus) (2025.3.2)\n",
            "Requirement already satisfied: packaging in /usr/local/lib/python3.11/dist-packages (from fastparquet<=2024.11.0,>=2023.10.1->pysus) (24.2)\n",
            "Requirement already satisfied: tzdata>=2022.7 in /usr/local/lib/python3.11/dist-packages (from pandas<3.0.0,>=2.2.2->pysus) (2025.2)\n",
            "Requirement already satisfied: cffi<2,>=1.15.1 in /usr/local/lib/python3.11/dist-packages (from pyreaddbc>=1.1.0->pysus) (1.17.1)\n",
            "Requirement already satisfied: pyyaml>=6 in /usr/local/lib/python3.11/dist-packages (from pyreaddbc>=1.1.0->pysus) (6.0.2)\n",
            "Requirement already satisfied: wcwidth in /usr/local/lib/python3.11/dist-packages (from urwid<3.0.0,>=2.1.2->pysus) (0.2.13)\n"
          ]
        }
      ]
    },
    {
      "cell_type": "markdown",
      "source": [
        "## 📖 Importando bibliotecas necessárias:"
      ],
      "metadata": {
        "id": "po4pEB5S2aFJ"
      }
    },
    {
      "cell_type": "code",
      "source": [
        "import pandas as pd\n",
        "import numpy as np\n",
        "from pysus import SIM\n",
        "import matplotlib.pyplot as plt\n",
        "from matplotlib import cm, colors\n",
        "import seaborn as sns\n",
        "from scipy.interpolate import make_interp_spline"
      ],
      "metadata": {
        "id": "ENavUlZm2RB8"
      },
      "execution_count": 2,
      "outputs": []
    },
    {
      "cell_type": "markdown",
      "source": [
        "## ⛏️ **ETAPA 1:**  Mineração dos dados"
      ],
      "metadata": {
        "id": "JZgMCVIc17x9"
      }
    },
    {
      "cell_type": "code",
      "source": [
        "## ⛏️Mineração dos dados"
      ],
      "metadata": {
        "id": "v1AKqLl_11QF"
      },
      "execution_count": 3,
      "outputs": []
    },
    {
      "cell_type": "code",
      "source": [
        "# Carrega o módulo SIM\n",
        "sim = SIM().load()\n",
        "\n",
        "# Obtém os arquivos de 2023 para o estado de SP e grupo CID10\n",
        "arquivos_2023 = sim.get_files(\"CID10\", year=2023)\n",
        "\n",
        "# Faz o download do arquivo (ou dos arquivos, se houver mais de um)\n",
        "parquets = [arquivo.download() for arquivo in arquivos_2023]\n",
        "\n",
        "dfs = [pq.to_dataframe() for pq in parquets]\n",
        "\n",
        "# Junta todos os dataframes, caso haja mais de um\n",
        "df = pd.concat(dfs, ignore_index=True)\n",
        "\n",
        "# Exibe as 5 primeiras linhas\n",
        "print(df.head(5))\n"
      ],
      "metadata": {
        "id": "hMo5r5VqAZvc",
        "outputId": "1e54dd4b-62b3-4b18-e8f0-61a2beb2eeab",
        "colab": {
          "base_uri": "https://localhost:8080/"
        }
      },
      "execution_count": 4,
      "outputs": [
        {
          "output_type": "stream",
          "name": "stdout",
          "text": [
            "  ORIGEM TIPOBITO   DTOBITO HORAOBITO NATURAL CODMUNNATU    DTNASC IDADE  \\\n",
            "0      1        2  01012023     0610      812    120070   26011941   481   \n",
            "1      1        2  01012023     1305      813    130180   20081966   456   \n",
            "2      1        2  01012023     0020      812    120030   15061968   454   \n",
            "3      1        2  01012023     1430      812    120045   14111965   457   \n",
            "4      1        2  01012023     1040      812    120035   12021958   464   \n",
            "\n",
            "   SEXO RACACOR  ... FONTES TPRESGINFO TPNIVELINV NUDIASINF DTCADINF  \\\n",
            "0     1       4  ...                                                   \n",
            "1     2       4  ...                                                   \n",
            "2     2       1  ...                                                   \n",
            "3     1       4  ...                                                   \n",
            "4     2       4  ...                                                   \n",
            "\n",
            "   MORTEPARTO DTCONCASO FONTESINF ALTCAUSA  CONTADOR  \n",
            "0                                           2067      \n",
            "1                                           2146      \n",
            "2                                           2196      \n",
            "3                                           2839      \n",
            "4                                           3066      \n",
            "\n",
            "[5 rows x 87 columns]\n"
          ]
        }
      ]
    },
    {
      "cell_type": "code",
      "source": [],
      "metadata": {
        "id": "kBZzrHvLL2Nm"
      },
      "execution_count": 4,
      "outputs": []
    },
    {
      "cell_type": "code",
      "source": [
        "df.columns"
      ],
      "metadata": {
        "colab": {
          "base_uri": "https://localhost:8080/"
        },
        "id": "XuZSw0SZ8mdW",
        "outputId": "249e0520-d712-4161-c305-6821c2009901"
      },
      "execution_count": 5,
      "outputs": [
        {
          "output_type": "execute_result",
          "data": {
            "text/plain": [
              "Index(['ORIGEM', 'TIPOBITO', 'DTOBITO', 'HORAOBITO', 'NATURAL', 'CODMUNNATU',\n",
              "       'DTNASC', 'IDADE', 'SEXO', 'RACACOR', 'ESTCIV', 'ESC', 'ESC2010',\n",
              "       'SERIESCFAL', 'OCUP', 'CODMUNRES', 'LOCOCOR', 'CODESTAB', 'ESTABDESCR',\n",
              "       'CODMUNOCOR', 'IDADEMAE', 'ESCMAE', 'ESCMAE2010', 'SERIESCMAE',\n",
              "       'OCUPMAE', 'QTDFILVIVO', 'QTDFILMORT', 'GRAVIDEZ', 'SEMAGESTAC',\n",
              "       'GESTACAO', 'PARTO', 'OBITOPARTO', 'PESO', 'TPMORTEOCO', 'OBITOGRAV',\n",
              "       'OBITOPUERP', 'ASSISTMED', 'EXAME', 'CIRURGIA', 'NECROPSIA', 'LINHAA',\n",
              "       'LINHAB', 'LINHAC', 'LINHAD', 'LINHAII', 'CAUSABAS', 'CB_PRE',\n",
              "       'COMUNSVOIM', 'DTATESTADO', 'CIRCOBITO', 'ACIDTRAB', 'FONTE',\n",
              "       'NUMEROLOTE', 'TPPOS', 'DTINVESTIG', 'CAUSABAS_O', 'DTCADASTRO',\n",
              "       'ATESTANTE', 'STCODIFICA', 'CODIFICADO', 'VERSAOSIST', 'VERSAOSCB',\n",
              "       'FONTEINV', 'DTRECEBIM', 'ATESTADO', 'DTRECORIGA', 'CAUSAMAT',\n",
              "       'ESCMAEAGR1', 'ESCFALAGR1', 'STDOEPIDEM', 'STDONOVA', 'DIFDATA',\n",
              "       'NUDIASOBCO', 'NUDIASOBIN', 'DTCADINV', 'TPOBITOCOR', 'DTCONINV',\n",
              "       'FONTES', 'TPRESGINFO', 'TPNIVELINV', 'NUDIASINF', 'DTCADINF',\n",
              "       'MORTEPARTO', 'DTCONCASO', 'FONTESINF', 'ALTCAUSA', 'CONTADOR'],\n",
              "      dtype='object')"
            ]
          },
          "metadata": {},
          "execution_count": 5
        }
      ]
    },
    {
      "cell_type": "markdown",
      "source": [
        "* ✅ Dados minerados com sucesso"
      ],
      "metadata": {
        "id": "6L1WO7az-J6f"
      }
    },
    {
      "cell_type": "markdown",
      "source": [],
      "metadata": {
        "id": "QSkfc7Gvz8Rl"
      }
    },
    {
      "cell_type": "markdown",
      "source": [
        "## 🔍 **ETAPA 2:** Análise exploratória dos dados\n",
        "- Uma vez que sabemos que o target está na coluna `CIRCOBITO`, vamos analisar, uma a uma, as demais colunas para identificar quais são preditores do tipo de óbito. Ao mesmo tempo, iremos gerar gráficos analíticos para apresentar as informações posteriormente."
      ],
      "metadata": {
        "id": "1XtjoFt7-Yq0"
      }
    },
    {
      "cell_type": "code",
      "source": [
        "df.columns"
      ],
      "metadata": {
        "colab": {
          "base_uri": "https://localhost:8080/"
        },
        "id": "0DyQtl3M-Z5X",
        "outputId": "ef0ab07a-f2d3-4557-e66f-c760ca388aa9"
      },
      "execution_count": 6,
      "outputs": [
        {
          "output_type": "execute_result",
          "data": {
            "text/plain": [
              "Index(['ORIGEM', 'TIPOBITO', 'DTOBITO', 'HORAOBITO', 'NATURAL', 'CODMUNNATU',\n",
              "       'DTNASC', 'IDADE', 'SEXO', 'RACACOR', 'ESTCIV', 'ESC', 'ESC2010',\n",
              "       'SERIESCFAL', 'OCUP', 'CODMUNRES', 'LOCOCOR', 'CODESTAB', 'ESTABDESCR',\n",
              "       'CODMUNOCOR', 'IDADEMAE', 'ESCMAE', 'ESCMAE2010', 'SERIESCMAE',\n",
              "       'OCUPMAE', 'QTDFILVIVO', 'QTDFILMORT', 'GRAVIDEZ', 'SEMAGESTAC',\n",
              "       'GESTACAO', 'PARTO', 'OBITOPARTO', 'PESO', 'TPMORTEOCO', 'OBITOGRAV',\n",
              "       'OBITOPUERP', 'ASSISTMED', 'EXAME', 'CIRURGIA', 'NECROPSIA', 'LINHAA',\n",
              "       'LINHAB', 'LINHAC', 'LINHAD', 'LINHAII', 'CAUSABAS', 'CB_PRE',\n",
              "       'COMUNSVOIM', 'DTATESTADO', 'CIRCOBITO', 'ACIDTRAB', 'FONTE',\n",
              "       'NUMEROLOTE', 'TPPOS', 'DTINVESTIG', 'CAUSABAS_O', 'DTCADASTRO',\n",
              "       'ATESTANTE', 'STCODIFICA', 'CODIFICADO', 'VERSAOSIST', 'VERSAOSCB',\n",
              "       'FONTEINV', 'DTRECEBIM', 'ATESTADO', 'DTRECORIGA', 'CAUSAMAT',\n",
              "       'ESCMAEAGR1', 'ESCFALAGR1', 'STDOEPIDEM', 'STDONOVA', 'DIFDATA',\n",
              "       'NUDIASOBCO', 'NUDIASOBIN', 'DTCADINV', 'TPOBITOCOR', 'DTCONINV',\n",
              "       'FONTES', 'TPRESGINFO', 'TPNIVELINV', 'NUDIASINF', 'DTCADINF',\n",
              "       'MORTEPARTO', 'DTCONCASO', 'FONTESINF', 'ALTCAUSA', 'CONTADOR'],\n",
              "      dtype='object')"
            ]
          },
          "metadata": {},
          "execution_count": 6
        }
      ]
    },
    {
      "cell_type": "code",
      "source": [
        "df.drop(columns=['ORIGEM'], inplace=True)"
      ],
      "metadata": {
        "id": "QP4yjTFa_IQP"
      },
      "execution_count": 7,
      "outputs": []
    },
    {
      "cell_type": "code",
      "source": [
        "df.drop(columns=['TIPOBITO'], inplace=True)"
      ],
      "metadata": {
        "id": "4E7x2-Z6_m-H"
      },
      "execution_count": 8,
      "outputs": []
    },
    {
      "cell_type": "code",
      "source": [
        "df.drop(columns=['DTOBITO'], inplace=True)"
      ],
      "metadata": {
        "id": "YZj9gkTk_b5I"
      },
      "execution_count": 9,
      "outputs": []
    },
    {
      "cell_type": "code",
      "source": [
        "# Função para classificar cada valor em 'HORAOBITO'\n",
        "def classify_value(x):\n",
        "    # Verifica NaN ou None\n",
        "    if pd.isna(x):\n",
        "        return 'blank'\n",
        "    # Verifica strings\n",
        "    if isinstance(x, str):\n",
        "        if x.strip() == '':\n",
        "            return 'blank'\n",
        "        else:\n",
        "            return 'string'\n",
        "    # Verifica valores numéricos\n",
        "    if isinstance(x, (int, float, np.integer, np.floating)):\n",
        "        return 'numeric'\n",
        "    # Outros tipos (caso existam)\n",
        "    return 'other'\n",
        "\n",
        "# Aplica a classificação e conta cada categoria\n",
        "counts = df['HORAOBITO'].apply(classify_value).value_counts()\n",
        "\n",
        "print(\"Contagem por categoria em 'HORAOBITO':\")\n",
        "print(counts)\n",
        "\n",
        "# Opcional: separar NaN de strings vazias\n",
        "def classify_detailed(x):\n",
        "    if pd.isna(x):\n",
        "        return 'NaN'\n",
        "    if isinstance(x, str):\n",
        "        if x.strip() == '':\n",
        "            return 'empty_string'\n",
        "        else:\n",
        "            # Tentar converter para número?\n",
        "            try:\n",
        "                float(x)\n",
        "                return 'string_numeric'  # string que representa número\n",
        "            except:\n",
        "                return 'string_non_numeric'\n",
        "    if isinstance(x, (int, float, np.integer, np.floating)):\n",
        "        return 'numeric'\n",
        "    return 'other'\n",
        "\n",
        "detailed_counts = df['HORAOBITO'].apply(classify_detailed).value_counts()\n",
        "print(\"\\nContagem detalhada em 'HORAOBITO':\")\n",
        "print(detailed_counts)"
      ],
      "metadata": {
        "colab": {
          "base_uri": "https://localhost:8080/"
        },
        "id": "YXytylTXBJcr",
        "outputId": "51a5b042-f044-49af-b75e-2f06621afb23"
      },
      "execution_count": 10,
      "outputs": [
        {
          "output_type": "stream",
          "name": "stdout",
          "text": [
            "Contagem por categoria em 'HORAOBITO':\n",
            "HORAOBITO\n",
            "string    2819930\n",
            "blank       98209\n",
            "Name: count, dtype: int64\n",
            "\n",
            "Contagem detalhada em 'HORAOBITO':\n",
            "HORAOBITO\n",
            "string_numeric    2819930\n",
            "empty_string        98209\n",
            "Name: count, dtype: int64\n"
          ]
        }
      ]
    },
    {
      "cell_type": "code",
      "source": [
        "# Remover linhas onde 'HORAOBITO' é NaN ou string em branco:\n",
        "\n",
        "# 1. Remover NaN:\n",
        "df = df.dropna(subset=['HORAOBITO'])\n",
        "\n",
        "# 2. Remover strings vazias ou só com espaços (caso existam):\n",
        "#    Converte em string, retira espaços e filtra diferente de ''\n",
        "df = df[df['HORAOBITO'].astype(str).str.strip() != '']\n",
        "\n",
        "# Opcional: resetar o índice após remoção\n",
        "df = df.reset_index(drop=True)\n"
      ],
      "metadata": {
        "id": "-iulLxeQCV-P"
      },
      "execution_count": 11,
      "outputs": []
    },
    {
      "cell_type": "code",
      "source": [
        "df = df[df['CIRCOBITO'] == '2'].copy()"
      ],
      "metadata": {
        "id": "v4E370SaJVKP"
      },
      "execution_count": 12,
      "outputs": []
    },
    {
      "cell_type": "code",
      "source": [
        "df.head(3)\n"
      ],
      "metadata": {
        "colab": {
          "base_uri": "https://localhost:8080/",
          "height": 193
        },
        "id": "5hjtBOgNJbgZ",
        "outputId": "56d452ea-435e-4c8d-f701-bcc024b84ba2"
      },
      "execution_count": 13,
      "outputs": [
        {
          "output_type": "execute_result",
          "data": {
            "text/plain": [
              "    HORAOBITO NATURAL CODMUNNATU    DTNASC IDADE  SEXO RACACOR ESTCIV ESC  \\\n",
              "22      1100      813    130260   25101981   441     1       4      9   2   \n",
              "37      1920      812    120020   27082003   419     1       4      1   3   \n",
              "135     1200      812    120040   25101980   442     1       4      1   3   \n",
              "\n",
              "    ESC2010  ... FONTES TPRESGINFO  TPNIVELINV NUDIASINF DTCADINF MORTEPARTO  \\\n",
              "22        1  ...                                                               \n",
              "37        1  ...                                                               \n",
              "135       2  ...                                                               \n",
              "\n",
              "    DTCONCASO FONTESINF ALTCAUSA  CONTADOR  \n",
              "22                                7886      \n",
              "37                                13647     \n",
              "135                               53256     \n",
              "\n",
              "[3 rows x 84 columns]"
            ],
            "text/html": [
              "\n",
              "  <div id=\"df-f6841228-1179-404c-a1ee-00bff64da6f0\" class=\"colab-df-container\">\n",
              "    <div>\n",
              "<style scoped>\n",
              "    .dataframe tbody tr th:only-of-type {\n",
              "        vertical-align: middle;\n",
              "    }\n",
              "\n",
              "    .dataframe tbody tr th {\n",
              "        vertical-align: top;\n",
              "    }\n",
              "\n",
              "    .dataframe thead th {\n",
              "        text-align: right;\n",
              "    }\n",
              "</style>\n",
              "<table border=\"1\" class=\"dataframe\">\n",
              "  <thead>\n",
              "    <tr style=\"text-align: right;\">\n",
              "      <th></th>\n",
              "      <th>HORAOBITO</th>\n",
              "      <th>NATURAL</th>\n",
              "      <th>CODMUNNATU</th>\n",
              "      <th>DTNASC</th>\n",
              "      <th>IDADE</th>\n",
              "      <th>SEXO</th>\n",
              "      <th>RACACOR</th>\n",
              "      <th>ESTCIV</th>\n",
              "      <th>ESC</th>\n",
              "      <th>ESC2010</th>\n",
              "      <th>...</th>\n",
              "      <th>FONTES</th>\n",
              "      <th>TPRESGINFO</th>\n",
              "      <th>TPNIVELINV</th>\n",
              "      <th>NUDIASINF</th>\n",
              "      <th>DTCADINF</th>\n",
              "      <th>MORTEPARTO</th>\n",
              "      <th>DTCONCASO</th>\n",
              "      <th>FONTESINF</th>\n",
              "      <th>ALTCAUSA</th>\n",
              "      <th>CONTADOR</th>\n",
              "    </tr>\n",
              "  </thead>\n",
              "  <tbody>\n",
              "    <tr>\n",
              "      <th>22</th>\n",
              "      <td>1100</td>\n",
              "      <td>813</td>\n",
              "      <td>130260</td>\n",
              "      <td>25101981</td>\n",
              "      <td>441</td>\n",
              "      <td>1</td>\n",
              "      <td>4</td>\n",
              "      <td>9</td>\n",
              "      <td>2</td>\n",
              "      <td>1</td>\n",
              "      <td>...</td>\n",
              "      <td></td>\n",
              "      <td></td>\n",
              "      <td></td>\n",
              "      <td></td>\n",
              "      <td></td>\n",
              "      <td></td>\n",
              "      <td></td>\n",
              "      <td></td>\n",
              "      <td></td>\n",
              "      <td>7886</td>\n",
              "    </tr>\n",
              "    <tr>\n",
              "      <th>37</th>\n",
              "      <td>1920</td>\n",
              "      <td>812</td>\n",
              "      <td>120020</td>\n",
              "      <td>27082003</td>\n",
              "      <td>419</td>\n",
              "      <td>1</td>\n",
              "      <td>4</td>\n",
              "      <td>1</td>\n",
              "      <td>3</td>\n",
              "      <td>1</td>\n",
              "      <td>...</td>\n",
              "      <td></td>\n",
              "      <td></td>\n",
              "      <td></td>\n",
              "      <td></td>\n",
              "      <td></td>\n",
              "      <td></td>\n",
              "      <td></td>\n",
              "      <td></td>\n",
              "      <td></td>\n",
              "      <td>13647</td>\n",
              "    </tr>\n",
              "    <tr>\n",
              "      <th>135</th>\n",
              "      <td>1200</td>\n",
              "      <td>812</td>\n",
              "      <td>120040</td>\n",
              "      <td>25101980</td>\n",
              "      <td>442</td>\n",
              "      <td>1</td>\n",
              "      <td>4</td>\n",
              "      <td>1</td>\n",
              "      <td>3</td>\n",
              "      <td>2</td>\n",
              "      <td>...</td>\n",
              "      <td></td>\n",
              "      <td></td>\n",
              "      <td></td>\n",
              "      <td></td>\n",
              "      <td></td>\n",
              "      <td></td>\n",
              "      <td></td>\n",
              "      <td></td>\n",
              "      <td></td>\n",
              "      <td>53256</td>\n",
              "    </tr>\n",
              "  </tbody>\n",
              "</table>\n",
              "<p>3 rows × 84 columns</p>\n",
              "</div>\n",
              "    <div class=\"colab-df-buttons\">\n",
              "\n",
              "  <div class=\"colab-df-container\">\n",
              "    <button class=\"colab-df-convert\" onclick=\"convertToInteractive('df-f6841228-1179-404c-a1ee-00bff64da6f0')\"\n",
              "            title=\"Convert this dataframe to an interactive table.\"\n",
              "            style=\"display:none;\">\n",
              "\n",
              "  <svg xmlns=\"http://www.w3.org/2000/svg\" height=\"24px\" viewBox=\"0 -960 960 960\">\n",
              "    <path d=\"M120-120v-720h720v720H120Zm60-500h600v-160H180v160Zm220 220h160v-160H400v160Zm0 220h160v-160H400v160ZM180-400h160v-160H180v160Zm440 0h160v-160H620v160ZM180-180h160v-160H180v160Zm440 0h160v-160H620v160Z\"/>\n",
              "  </svg>\n",
              "    </button>\n",
              "\n",
              "  <style>\n",
              "    .colab-df-container {\n",
              "      display:flex;\n",
              "      gap: 12px;\n",
              "    }\n",
              "\n",
              "    .colab-df-convert {\n",
              "      background-color: #E8F0FE;\n",
              "      border: none;\n",
              "      border-radius: 50%;\n",
              "      cursor: pointer;\n",
              "      display: none;\n",
              "      fill: #1967D2;\n",
              "      height: 32px;\n",
              "      padding: 0 0 0 0;\n",
              "      width: 32px;\n",
              "    }\n",
              "\n",
              "    .colab-df-convert:hover {\n",
              "      background-color: #E2EBFA;\n",
              "      box-shadow: 0px 1px 2px rgba(60, 64, 67, 0.3), 0px 1px 3px 1px rgba(60, 64, 67, 0.15);\n",
              "      fill: #174EA6;\n",
              "    }\n",
              "\n",
              "    .colab-df-buttons div {\n",
              "      margin-bottom: 4px;\n",
              "    }\n",
              "\n",
              "    [theme=dark] .colab-df-convert {\n",
              "      background-color: #3B4455;\n",
              "      fill: #D2E3FC;\n",
              "    }\n",
              "\n",
              "    [theme=dark] .colab-df-convert:hover {\n",
              "      background-color: #434B5C;\n",
              "      box-shadow: 0px 1px 3px 1px rgba(0, 0, 0, 0.15);\n",
              "      filter: drop-shadow(0px 1px 2px rgba(0, 0, 0, 0.3));\n",
              "      fill: #FFFFFF;\n",
              "    }\n",
              "  </style>\n",
              "\n",
              "    <script>\n",
              "      const buttonEl =\n",
              "        document.querySelector('#df-f6841228-1179-404c-a1ee-00bff64da6f0 button.colab-df-convert');\n",
              "      buttonEl.style.display =\n",
              "        google.colab.kernel.accessAllowed ? 'block' : 'none';\n",
              "\n",
              "      async function convertToInteractive(key) {\n",
              "        const element = document.querySelector('#df-f6841228-1179-404c-a1ee-00bff64da6f0');\n",
              "        const dataTable =\n",
              "          await google.colab.kernel.invokeFunction('convertToInteractive',\n",
              "                                                    [key], {});\n",
              "        if (!dataTable) return;\n",
              "\n",
              "        const docLinkHtml = 'Like what you see? Visit the ' +\n",
              "          '<a target=\"_blank\" href=https://colab.research.google.com/notebooks/data_table.ipynb>data table notebook</a>'\n",
              "          + ' to learn more about interactive tables.';\n",
              "        element.innerHTML = '';\n",
              "        dataTable['output_type'] = 'display_data';\n",
              "        await google.colab.output.renderOutput(dataTable, element);\n",
              "        const docLink = document.createElement('div');\n",
              "        docLink.innerHTML = docLinkHtml;\n",
              "        element.appendChild(docLink);\n",
              "      }\n",
              "    </script>\n",
              "  </div>\n",
              "\n",
              "\n",
              "    <div id=\"df-dc7211ea-a6d9-467b-9cac-01acb577ddae\">\n",
              "      <button class=\"colab-df-quickchart\" onclick=\"quickchart('df-dc7211ea-a6d9-467b-9cac-01acb577ddae')\"\n",
              "                title=\"Suggest charts\"\n",
              "                style=\"display:none;\">\n",
              "\n",
              "<svg xmlns=\"http://www.w3.org/2000/svg\" height=\"24px\"viewBox=\"0 0 24 24\"\n",
              "     width=\"24px\">\n",
              "    <g>\n",
              "        <path d=\"M19 3H5c-1.1 0-2 .9-2 2v14c0 1.1.9 2 2 2h14c1.1 0 2-.9 2-2V5c0-1.1-.9-2-2-2zM9 17H7v-7h2v7zm4 0h-2V7h2v10zm4 0h-2v-4h2v4z\"/>\n",
              "    </g>\n",
              "</svg>\n",
              "      </button>\n",
              "\n",
              "<style>\n",
              "  .colab-df-quickchart {\n",
              "      --bg-color: #E8F0FE;\n",
              "      --fill-color: #1967D2;\n",
              "      --hover-bg-color: #E2EBFA;\n",
              "      --hover-fill-color: #174EA6;\n",
              "      --disabled-fill-color: #AAA;\n",
              "      --disabled-bg-color: #DDD;\n",
              "  }\n",
              "\n",
              "  [theme=dark] .colab-df-quickchart {\n",
              "      --bg-color: #3B4455;\n",
              "      --fill-color: #D2E3FC;\n",
              "      --hover-bg-color: #434B5C;\n",
              "      --hover-fill-color: #FFFFFF;\n",
              "      --disabled-bg-color: #3B4455;\n",
              "      --disabled-fill-color: #666;\n",
              "  }\n",
              "\n",
              "  .colab-df-quickchart {\n",
              "    background-color: var(--bg-color);\n",
              "    border: none;\n",
              "    border-radius: 50%;\n",
              "    cursor: pointer;\n",
              "    display: none;\n",
              "    fill: var(--fill-color);\n",
              "    height: 32px;\n",
              "    padding: 0;\n",
              "    width: 32px;\n",
              "  }\n",
              "\n",
              "  .colab-df-quickchart:hover {\n",
              "    background-color: var(--hover-bg-color);\n",
              "    box-shadow: 0 1px 2px rgba(60, 64, 67, 0.3), 0 1px 3px 1px rgba(60, 64, 67, 0.15);\n",
              "    fill: var(--button-hover-fill-color);\n",
              "  }\n",
              "\n",
              "  .colab-df-quickchart-complete:disabled,\n",
              "  .colab-df-quickchart-complete:disabled:hover {\n",
              "    background-color: var(--disabled-bg-color);\n",
              "    fill: var(--disabled-fill-color);\n",
              "    box-shadow: none;\n",
              "  }\n",
              "\n",
              "  .colab-df-spinner {\n",
              "    border: 2px solid var(--fill-color);\n",
              "    border-color: transparent;\n",
              "    border-bottom-color: var(--fill-color);\n",
              "    animation:\n",
              "      spin 1s steps(1) infinite;\n",
              "  }\n",
              "\n",
              "  @keyframes spin {\n",
              "    0% {\n",
              "      border-color: transparent;\n",
              "      border-bottom-color: var(--fill-color);\n",
              "      border-left-color: var(--fill-color);\n",
              "    }\n",
              "    20% {\n",
              "      border-color: transparent;\n",
              "      border-left-color: var(--fill-color);\n",
              "      border-top-color: var(--fill-color);\n",
              "    }\n",
              "    30% {\n",
              "      border-color: transparent;\n",
              "      border-left-color: var(--fill-color);\n",
              "      border-top-color: var(--fill-color);\n",
              "      border-right-color: var(--fill-color);\n",
              "    }\n",
              "    40% {\n",
              "      border-color: transparent;\n",
              "      border-right-color: var(--fill-color);\n",
              "      border-top-color: var(--fill-color);\n",
              "    }\n",
              "    60% {\n",
              "      border-color: transparent;\n",
              "      border-right-color: var(--fill-color);\n",
              "    }\n",
              "    80% {\n",
              "      border-color: transparent;\n",
              "      border-right-color: var(--fill-color);\n",
              "      border-bottom-color: var(--fill-color);\n",
              "    }\n",
              "    90% {\n",
              "      border-color: transparent;\n",
              "      border-bottom-color: var(--fill-color);\n",
              "    }\n",
              "  }\n",
              "</style>\n",
              "\n",
              "      <script>\n",
              "        async function quickchart(key) {\n",
              "          const quickchartButtonEl =\n",
              "            document.querySelector('#' + key + ' button');\n",
              "          quickchartButtonEl.disabled = true;  // To prevent multiple clicks.\n",
              "          quickchartButtonEl.classList.add('colab-df-spinner');\n",
              "          try {\n",
              "            const charts = await google.colab.kernel.invokeFunction(\n",
              "                'suggestCharts', [key], {});\n",
              "          } catch (error) {\n",
              "            console.error('Error during call to suggestCharts:', error);\n",
              "          }\n",
              "          quickchartButtonEl.classList.remove('colab-df-spinner');\n",
              "          quickchartButtonEl.classList.add('colab-df-quickchart-complete');\n",
              "        }\n",
              "        (() => {\n",
              "          let quickchartButtonEl =\n",
              "            document.querySelector('#df-dc7211ea-a6d9-467b-9cac-01acb577ddae button');\n",
              "          quickchartButtonEl.style.display =\n",
              "            google.colab.kernel.accessAllowed ? 'block' : 'none';\n",
              "        })();\n",
              "      </script>\n",
              "    </div>\n",
              "\n",
              "    </div>\n",
              "  </div>\n"
            ],
            "application/vnd.google.colaboratory.intrinsic+json": {
              "type": "dataframe",
              "variable_name": "df"
            }
          },
          "metadata": {},
          "execution_count": 13
        }
      ]
    },
    {
      "cell_type": "code",
      "source": [
        "df['HORAOBITO'] = df['HORAOBITO'].astype(str).str.zfill(4)\n",
        "df['HORA'] = df['HORAOBITO'].str[:2].astype(int)"
      ],
      "metadata": {
        "id": "m6JGNtHmVyVN"
      },
      "execution_count": 14,
      "outputs": []
    },
    {
      "cell_type": "code",
      "source": [
        "# 1. Garante 4 dígitos\n",
        "df['HORAOBITO'] = df['HORAOBITO'].astype(str).str.zfill(4)\n",
        "\n",
        "# 2. Extrai hora\n",
        "df['HORA'] = df['HORAOBITO'].str[:2].astype(int)\n",
        "\n",
        "# 3. Agrupa por hora\n",
        "contagem_por_hora = df.groupby('HORA').size().reset_index(name='QTD_OBITOS')\n",
        "\n",
        "# Verifica se tem dados suficientes\n",
        "if len(contagem_por_hora) < 4:\n",
        "    raise ValueError(\"Poucos dados por hora para suavização. Mínimo necessário: 4 horas distintas.\")\n",
        "\n",
        "# 4. Cópia para as médias individuais\n",
        "media_por_hora = df.groupby('HORA').size().reset_index(name='MEDIA_OBITOS')\n",
        "\n",
        "# 5. Merge\n",
        "dados = pd.merge(contagem_por_hora, media_por_hora, on='HORA')\n",
        "\n",
        "# 6. Estilo\n",
        "sns.set_theme(style='white')\n",
        "\n",
        "plt.figure(figsize=(14, 6))\n",
        "\n",
        "# 7. Suavização com segurança\n",
        "x = dados['HORA'].to_numpy()\n",
        "y = dados['QTD_OBITOS'].to_numpy()\n",
        "\n",
        "try:\n",
        "    xnew = np.linspace(x.min(), x.max(), 300)\n",
        "    spl = make_interp_spline(x, y, k=3)\n",
        "    y_smooth = spl(xnew)\n",
        "    plt.plot(xnew, y_smooth, color='royalblue', linewidth=2.5)\n",
        "except ValueError:\n",
        "    # fallback sem suavizar\n",
        "    plt.plot(x, y, color='royalblue', linewidth=2.5)\n",
        "\n",
        "# 8. Pontos\n",
        "sns.scatterplot(data=dados, x='HORA', y='QTD_OBITOS', color='red', s=100, zorder=10)\n",
        "\n",
        "# 9. Rótulo sem decimal\n",
        "for i, row in dados.iterrows():\n",
        "    plt.text(row['HORA'], row['QTD_OBITOS'] + 300,\n",
        "             f\"{int(row['MEDIA_OBITOS'])}\", ha='center', va='bottom',\n",
        "             fontsize=11, color='darkgreen', fontweight='bold')\n",
        "\n",
        "# 10. Eixos e título\n",
        "plt.title('Média de Óbitos por Horário - 2023', fontsize=16)\n",
        "plt.xlabel('Hora do Dia', fontsize=12)\n",
        "plt.ylabel('Quantidade de Óbitos', fontsize=12)\n",
        "plt.xticks(range(0, 24))\n",
        "plt.grid(False)\n",
        "\n",
        "# 11. Fonte\n",
        "plt.figtext(0.99, 0.01, 'Fonte: DataSUS SIM - Análise LabIA',\n",
        "            horizontalalignment='right', fontsize=10, style='italic', color='gray')\n",
        "\n",
        "plt.tight_layout()\n",
        "plt.show()"
      ],
      "metadata": {
        "colab": {
          "base_uri": "https://localhost:8080/",
          "height": 601
        },
        "id": "A1AiEJnwHnbS",
        "outputId": "c6c70809-942b-42a6-d1e2-cac69adfdfce"
      },
      "execution_count": 15,
      "outputs": [
        {
          "output_type": "display_data",
          "data": {
            "text/plain": [
              "<Figure size 1400x600 with 1 Axes>"
            ],
            "image/png": "[encoded data removed]"
          },
          "metadata": {}
        }
      ]
    },
    {
      "cell_type": "code",
      "source": [
        "df['HORAOBITO']\n"
      ],
      "metadata": {
        "colab": {
          "base_uri": "https://localhost:8080/",
          "height": 458
        },
        "id": "1_ip8gMhKXKW",
        "outputId": "89701f3c-6e38-4d6e-aa27-92c33ffc0c16"
      },
      "execution_count": 16,
      "outputs": [
        {
          "output_type": "execute_result",
          "data": {
            "text/plain": [
              "22         1100 \n",
              "37         1920 \n",
              "135        1200 \n",
              "164        0830 \n",
              "187        0100 \n",
              "           ...  \n",
              "2819730    0140 \n",
              "2819734    0900 \n",
              "2819761    2100 \n",
              "2819781    1410 \n",
              "2819795    0030 \n",
              "Name: HORAOBITO, Length: 26427, dtype: object"
            ],
            "text/html": [
              "<div>\n",
              "<style scoped>\n",
              "    .dataframe tbody tr th:only-of-type {\n",
              "        vertical-align: middle;\n",
              "    }\n",
              "\n",
              "    .dataframe tbody tr th {\n",
              "        vertical-align: top;\n",
              "    }\n",
              "\n",
              "    .dataframe thead th {\n",
              "        text-align: right;\n",
              "    }\n",
              "</style>\n",
              "<table border=\"1\" class=\"dataframe\">\n",
              "  <thead>\n",
              "    <tr style=\"text-align: right;\">\n",
              "      <th></th>\n",
              "      <th>HORAOBITO</th>\n",
              "    </tr>\n",
              "  </thead>\n",
              "  <tbody>\n",
              "    <tr>\n",
              "      <th>22</th>\n",
              "      <td>1100</td>\n",
              "    </tr>\n",
              "    <tr>\n",
              "      <th>37</th>\n",
              "      <td>1920</td>\n",
              "    </tr>\n",
              "    <tr>\n",
              "      <th>135</th>\n",
              "      <td>1200</td>\n",
              "    </tr>\n",
              "    <tr>\n",
              "      <th>164</th>\n",
              "      <td>0830</td>\n",
              "    </tr>\n",
              "    <tr>\n",
              "      <th>187</th>\n",
              "      <td>0100</td>\n",
              "    </tr>\n",
              "    <tr>\n",
              "      <th>...</th>\n",
              "      <td>...</td>\n",
              "    </tr>\n",
              "    <tr>\n",
              "      <th>2819730</th>\n",
              "      <td>0140</td>\n",
              "    </tr>\n",
              "    <tr>\n",
              "      <th>2819734</th>\n",
              "      <td>0900</td>\n",
              "    </tr>\n",
              "    <tr>\n",
              "      <th>2819761</th>\n",
              "      <td>2100</td>\n",
              "    </tr>\n",
              "    <tr>\n",
              "      <th>2819781</th>\n",
              "      <td>1410</td>\n",
              "    </tr>\n",
              "    <tr>\n",
              "      <th>2819795</th>\n",
              "      <td>0030</td>\n",
              "    </tr>\n",
              "  </tbody>\n",
              "</table>\n",
              "<p>26427 rows × 1 columns</p>\n",
              "</div><br><label><b>dtype:</b> object</label>"
            ]
          },
          "metadata": {},
          "execution_count": 16
        }
      ]
    },
    {
      "cell_type": "code",
      "source": [
        "# Prepara coluna HORAOBITO como string com 4 dígitos\n",
        "df['HORAOBITO'] = df['HORAOBITO'].astype(str).str.zfill(4)\n",
        "\n",
        "# Filtra apenas valores válidos (4 dígitos numéricos)\n",
        "df_validos = df[df['HORAOBITO'].str.fullmatch(r'\\d{4}') == True].copy()\n",
        "\n",
        "# Extrai HORA\n",
        "df_validos['HORA'] = df_validos['HORAOBITO'].str[:2].astype(int)\n",
        "\n",
        "# 1. Contagem de registros por hora\n",
        "print(\"📊 Contagem de óbitos por hora:\")\n",
        "print(df_validos['HORA'].value_counts().sort_index())\n",
        "\n",
        "# 2. Valores únicos de HORAOBITO que geraram HORA == 0\n",
        "print(\"\\n🔍 Valores brutos de HORAOBITO que viraram HORA == 0:\")\n",
        "print(df_validos[df_validos['HORA'] == 0]['HORAOBITO'].value_counts().head(20))\n",
        "\n",
        "# 3. Valores inválidos descartados no processo\n",
        "df_invalidos = df[~df['HORAOBITO'].str.fullmatch(r'\\d{4}')]\n",
        "print(\"\\n⚠️ Valores de HORAOBITO inválidos que foram descartados:\")\n",
        "print(df_invalidos['HORAOBITO'].value_counts().head(10))"
      ],
      "metadata": {
        "colab": {
          "base_uri": "https://localhost:8080/"
        },
        "id": "VXHdfRcGKaAY",
        "outputId": "cb7e1423-7856-41e8-a38a-1b7f0a7efcc5"
      },
      "execution_count": 17,
      "outputs": [
        {
          "output_type": "stream",
          "name": "stdout",
          "text": [
            "📊 Contagem de óbitos por hora:\n",
            "Series([], Name: count, dtype: int64)\n",
            "\n",
            "🔍 Valores brutos de HORAOBITO que viraram HORA == 0:\n",
            "Series([], Name: count, dtype: int64)\n",
            "\n",
            "⚠️ Valores de HORAOBITO inválidos que foram descartados:\n",
            "HORAOBITO\n",
            "0800     646\n",
            "1000     573\n",
            "0600     533\n",
            "1200     520\n",
            "1600     519\n",
            "0900     514\n",
            "0700     477\n",
            "1100     471\n",
            "1400     453\n",
            "1700     453\n",
            "Name: count, dtype: int64\n"
          ]
        }
      ]
    },
    {
      "cell_type": "markdown",
      "source": [
        "# Parece que o 0000 é um outlier, um valor proforma \"placeholder\" que é utilizado apenas para não deixar o dado em branco, perdendo assim a confiabilidade, devido a isto vamos retirar a 0 hora do nosso gráfico"
      ],
      "metadata": {
        "id": "tekF1l4AW2y5"
      }
    },
    {
      "cell_type": "code",
      "source": [
        "\n",
        "# Filtra removendo '0000'\n",
        "df_filtered = df[df['HORAOBITO'] != 0]\n",
        "\n",
        "# Extrai hora\n",
        "# Usando .loc para evitar SettingWithCopyWarning\n",
        "df_filtered.loc[:, 'HORA'] = df_filtered['HORAOBITO'].astype(str).str.zfill(4).str[:2]\n",
        "\n",
        "# Conta e calcula porcentagem\n",
        "counts = df_filtered['HORA'].value_counts().sort_index()\n",
        "percentages = (counts / counts.sum()) * 100\n",
        "\n",
        "# Criar um DataFrame combinado para facilitar o plot e o acesso aos dados\n",
        "# Assegura que ambos os Series (counts e percentages) estão alinhados por índice\n",
        "combined_data = pd.DataFrame({\n",
        "    'PORCENTAGEM': percentages,\n",
        "    'CONTADOR': counts\n",
        "}).reset_index()\n",
        "combined_data.columns = ['HORA', 'PORCENTAGEM', 'CONTADOR']\n",
        "\n",
        "# Figura 50% maior: se antes era (12,6), fica (18,9)\n",
        "plt.figure(figsize=(18, 9))\n",
        "\n",
        "# Paleta monocromática amarela sem escala de brilho\n",
        "yellow_color = '#FFD700' # Um bom amarelo ouro. Ajuste conforme preferir.\n",
        "palette = [yellow_color] * len(combined_data) # Garante que todas as barras tenham a mesma cor\n",
        "\n",
        "ax = sns.barplot(x='HORA', y='PORCENTAGEM', data=combined_data, palette=palette)\n",
        "\n",
        "# Ajusta título e labels e espaçamentoidi\n",
        "ax.set_title('Suícidios por Hora - Brasil 2023', fontsize=12, pad=30)\n",
        "ax.set_xlabel('Hora do Óbito (HH)', fontsize=12)\n",
        "ax.set_ylabel('Porcentagem (%)', fontsize=12)\n",
        "\n",
        "# **Mostrar porcentagem e quantidade dentro das barras**\n",
        "for index, p in enumerate(ax.patches):\n",
        "    height = p.get_height() # Altura da barra (porcentagem)\n",
        "    # Acessa o valor do contador correspondente à barra atual\n",
        "    count_value = combined_data.loc[index, 'CONTADOR']\n",
        "\n",
        "    # Posição y para o texto (um pouco abaixo do topo da barra para ficar dentro dela)\n",
        "    # Ajuste 'height - X' para posicionar o texto dentro da barra\n",
        "    y_position_percent = height - (ax.get_ylim()[1] * 0.03) # 3% da altura total do Y para afastar do topo\n",
        "    y_position_count = height - (ax.get_ylim()[1] * 0.08) # Mais 5% abaixo da porcentagem\n",
        "\n",
        "    # Texto da porcentagem\n",
        "    ax.text(p.get_x() + p.get_width()/2.,\n",
        "            y_position_percent,\n",
        "            f'{height:.1f}%',\n",
        "            ha='center', fontsize=8, color='black') # Cor do texto para contraste\n",
        "\n",
        "    # Texto da quantidade\n",
        "    ax.text(p.get_x() + p.get_width()/2.,\n",
        "            y_position_count,\n",
        "            f'({int(count_value)})', # Convertido para int para remover .0\n",
        "            ha='center', fontsize=8, color='black') # Cor do texto para contraste\n",
        "\n",
        "# Não precisamos de set_ylim tão alto se o texto estiver dentro da barra\n",
        "# Podemos até deixar o matplotlib decidir ou definir um valor um pouco acima do max_percentage\n",
        "# para que a linha superior fique acima do topo da barra, mas sem precisar de margem para o texto.\n",
        "max_percentage = percentages['PORCENTAGEM'].max()\n",
        "ax.set_ylim(0, max_percentage * 1.05) # Pequena margem acima do valor mais alto da barra\n",
        "\n",
        "# Coloca a fonte \"Data SUS\" abaixo do gráfico\n",
        "plt.figtext(0.5, 0.01, 'Fonte: LabIA - Codigo K - Data SUS', ha='center', fontsize=14, style='italic')\n",
        "\n",
        "# Ajusta layout para evitar encavalamento\n",
        "plt.tight_layout(rect=[0, 0.03, 1, 0.95])\n",
        "\n",
        "plt.show()"
      ],
      "metadata": {
        "colab": {
          "base_uri": "https://localhost:8080/",
          "height": 1000
        },
        "id": "3N03nhdjakDe",
        "outputId": "a8014269-9f98-426d-8816-56856bb584d4"
      },
      "execution_count": 25,
      "outputs": [
        {
          "output_type": "stream",
          "name": "stderr",
          "text": [
            "/tmp/ipython-input-25-1099926158.py:6: FutureWarning: Setting an item of incompatible dtype is deprecated and will raise in a future error of pandas. Value '['11' '19' '12' ... '21' '14' '00']' has dtype incompatible with int64, please explicitly cast to a compatible dtype first.\n",
            "  df_filtered.loc[:, 'HORA'] = df_filtered['HORAOBITO'].astype(str).str.zfill(4).str[:2]\n",
            "/tmp/ipython-input-25-1099926158.py:27: FutureWarning: \n",
            "\n",
            "Passing `palette` without assigning `hue` is deprecated and will be removed in v0.14.0. Assign the `x` variable to `hue` and set `legend=False` for the same effect.\n",
            "\n",
            "  ax = sns.barplot(x='HORA', y='PORCENTAGEM', data=combined_data, palette=palette)\n"
          ]
        },
        {
          "output_type": "error",
          "ename": "KeyError",
          "evalue": "'PORCENTAGEM'",
          "traceback": [
            "\u001b[0;31m---------------------------------------------------------------------------\u001b[0m",
            "\u001b[0;31mKeyError\u001b[0m                                  Traceback (most recent call last)",
            "\u001b[0;32m/usr/local/lib/python3.11/dist-packages/pandas/core/indexes/base.py\u001b[0m in \u001b[0;36mget_loc\u001b[0;34m(self, key)\u001b[0m\n\u001b[1;32m   3804\u001b[0m         \u001b[0;32mtry\u001b[0m\u001b[0;34m:\u001b[0m\u001b[0;34m\u001b[0m\u001b[0;34m\u001b[0m\u001b[0m\n\u001b[0;32m-> 3805\u001b[0;31m             \u001b[0;32mreturn\u001b[0m \u001b[0mself\u001b[0m\u001b[0;34m.\u001b[0m\u001b[0m_engine\u001b[0m\u001b[0;34m.\u001b[0m\u001b[0mget_loc\u001b[0m\u001b[0;34m(\u001b[0m\u001b[0mcasted_key\u001b[0m\u001b[0;34m)\u001b[0m\u001b[0;34m\u001b[0m\u001b[0;34m\u001b[0m\u001b[0m\n\u001b[0m\u001b[1;32m   3806\u001b[0m         \u001b[0;32mexcept\u001b[0m \u001b[0mKeyError\u001b[0m \u001b[0;32mas\u001b[0m \u001b[0merr\u001b[0m\u001b[0;34m:\u001b[0m\u001b[0;34m\u001b[0m\u001b[0;34m\u001b[0m\u001b[0m\n",
            "\u001b[0;32mindex.pyx\u001b[0m in \u001b[0;36mpandas._libs.index.IndexEngine.get_loc\u001b[0;34m()\u001b[0m\n",
            "\u001b[0;32mindex.pyx\u001b[0m in \u001b[0;36mpandas._libs.index.IndexEngine.get_loc\u001b[0;34m()\u001b[0m\n",
            "\u001b[0;32mpandas/_libs/hashtable_class_helper.pxi\u001b[0m in \u001b[0;36mpandas._libs.hashtable.PyObjectHashTable.get_item\u001b[0;34m()\u001b[0m\n",
            "\u001b[0;32mpandas/_libs/hashtable_class_helper.pxi\u001b[0m in \u001b[0;36mpandas._libs.hashtable.PyObjectHashTable.get_item\u001b[0;34m()\u001b[0m\n",
            "\u001b[0;31mKeyError\u001b[0m: 'PORCENTAGEM'",
            "\nThe above exception was the direct cause of the following exception:\n",
            "\u001b[0;31mKeyError\u001b[0m                                  Traceback (most recent call last)",
            "\u001b[0;32m/tmp/ipython-input-25-1099926158.py\u001b[0m in \u001b[0;36m<cell line: 0>\u001b[0;34m()\u001b[0m\n\u001b[1;32m     58\u001b[0m \u001b[0;31m# Podemos até deixar o matplotlib decidir ou definir um valor um pouco acima do max_percentage\u001b[0m\u001b[0;34m\u001b[0m\u001b[0;34m\u001b[0m\u001b[0m\n\u001b[1;32m     59\u001b[0m \u001b[0;31m# para que a linha superior fique acima do topo da barra, mas sem precisar de margem para o texto.\u001b[0m\u001b[0;34m\u001b[0m\u001b[0;34m\u001b[0m\u001b[0m\n\u001b[0;32m---> 60\u001b[0;31m \u001b[0mmax_percentage\u001b[0m \u001b[0;34m=\u001b[0m \u001b[0mpercentages\u001b[0m\u001b[0;34m[\u001b[0m\u001b[0;34m'PORCENTAGEM'\u001b[0m\u001b[0;34m]\u001b[0m\u001b[0;34m.\u001b[0m\u001b[0mmax\u001b[0m\u001b[0;34m(\u001b[0m\u001b[0;34m)\u001b[0m\u001b[0;34m\u001b[0m\u001b[0;34m\u001b[0m\u001b[0m\n\u001b[0m\u001b[1;32m     61\u001b[0m \u001b[0max\u001b[0m\u001b[0;34m.\u001b[0m\u001b[0mset_ylim\u001b[0m\u001b[0;34m(\u001b[0m\u001b[0;36m0\u001b[0m\u001b[0;34m,\u001b[0m \u001b[0mmax_percentage\u001b[0m \u001b[0;34m*\u001b[0m \u001b[0;36m1.05\u001b[0m\u001b[0;34m)\u001b[0m \u001b[0;31m# Pequena margem acima do valor mais alto da barra\u001b[0m\u001b[0;34m\u001b[0m\u001b[0;34m\u001b[0m\u001b[0m\n\u001b[1;32m     62\u001b[0m \u001b[0;34m\u001b[0m\u001b[0m\n",
            "\u001b[0;32m/usr/local/lib/python3.11/dist-packages/pandas/core/series.py\u001b[0m in \u001b[0;36m__getitem__\u001b[0;34m(self, key)\u001b[0m\n\u001b[1;32m   1119\u001b[0m \u001b[0;34m\u001b[0m\u001b[0m\n\u001b[1;32m   1120\u001b[0m         \u001b[0;32melif\u001b[0m \u001b[0mkey_is_scalar\u001b[0m\u001b[0;34m:\u001b[0m\u001b[0;34m\u001b[0m\u001b[0;34m\u001b[0m\u001b[0m\n\u001b[0;32m-> 1121\u001b[0;31m             \u001b[0;32mreturn\u001b[0m \u001b[0mself\u001b[0m\u001b[0;34m.\u001b[0m\u001b[0m_get_value\u001b[0m\u001b[0;34m(\u001b[0m\u001b[0mkey\u001b[0m\u001b[0;34m)\u001b[0m\u001b[0;34m\u001b[0m\u001b[0;34m\u001b[0m\u001b[0m\n\u001b[0m\u001b[1;32m   1122\u001b[0m \u001b[0;34m\u001b[0m\u001b[0m\n\u001b[1;32m   1123\u001b[0m         \u001b[0;31m# Convert generator to list before going through hashable part\u001b[0m\u001b[0;34m\u001b[0m\u001b[0;34m\u001b[0m\u001b[0m\n",
            "\u001b[0;32m/usr/local/lib/python3.11/dist-packages/pandas/core/series.py\u001b[0m in \u001b[0;36m_get_value\u001b[0;34m(self, label, takeable)\u001b[0m\n\u001b[1;32m   1235\u001b[0m \u001b[0;34m\u001b[0m\u001b[0m\n\u001b[1;32m   1236\u001b[0m         \u001b[0;31m# Similar to Index.get_value, but we do not fall back to positional\u001b[0m\u001b[0;34m\u001b[0m\u001b[0;34m\u001b[0m\u001b[0m\n\u001b[0;32m-> 1237\u001b[0;31m         \u001b[0mloc\u001b[0m \u001b[0;34m=\u001b[0m \u001b[0mself\u001b[0m\u001b[0;34m.\u001b[0m\u001b[0mindex\u001b[0m\u001b[0;34m.\u001b[0m\u001b[0mget_loc\u001b[0m\u001b[0;34m(\u001b[0m\u001b[0mlabel\u001b[0m\u001b[0;34m)\u001b[0m\u001b[0;34m\u001b[0m\u001b[0;34m\u001b[0m\u001b[0m\n\u001b[0m\u001b[1;32m   1238\u001b[0m \u001b[0;34m\u001b[0m\u001b[0m\n\u001b[1;32m   1239\u001b[0m         \u001b[0;32mif\u001b[0m \u001b[0mis_integer\u001b[0m\u001b[0;34m(\u001b[0m\u001b[0mloc\u001b[0m\u001b[0;34m)\u001b[0m\u001b[0;34m:\u001b[0m\u001b[0;34m\u001b[0m\u001b[0;34m\u001b[0m\u001b[0m\n",
            "\u001b[0;32m/usr/local/lib/python3.11/dist-packages/pandas/core/indexes/base.py\u001b[0m in \u001b[0;36mget_loc\u001b[0;34m(self, key)\u001b[0m\n\u001b[1;32m   3810\u001b[0m             ):\n\u001b[1;32m   3811\u001b[0m                 \u001b[0;32mraise\u001b[0m \u001b[0mInvalidIndexError\u001b[0m\u001b[0;34m(\u001b[0m\u001b[0mkey\u001b[0m\u001b[0;34m)\u001b[0m\u001b[0;34m\u001b[0m\u001b[0;34m\u001b[0m\u001b[0m\n\u001b[0;32m-> 3812\u001b[0;31m             \u001b[0;32mraise\u001b[0m \u001b[0mKeyError\u001b[0m\u001b[0;34m(\u001b[0m\u001b[0mkey\u001b[0m\u001b[0;34m)\u001b[0m \u001b[0;32mfrom\u001b[0m \u001b[0merr\u001b[0m\u001b[0;34m\u001b[0m\u001b[0;34m\u001b[0m\u001b[0m\n\u001b[0m\u001b[1;32m   3813\u001b[0m         \u001b[0;32mexcept\u001b[0m \u001b[0mTypeError\u001b[0m\u001b[0;34m:\u001b[0m\u001b[0;34m\u001b[0m\u001b[0;34m\u001b[0m\u001b[0m\n\u001b[1;32m   3814\u001b[0m             \u001b[0;31m# If we have a listlike key, _check_indexing_error will raise\u001b[0m\u001b[0;34m\u001b[0m\u001b[0;34m\u001b[0m\u001b[0m\n",
            "\u001b[0;31mKeyError\u001b[0m: 'PORCENTAGEM'"
          ]
        },
        {
          "output_type": "display_data",
          "data": {
            "text/plain": [
              "<Figure size 1800x900 with 1 Axes>"
            ],
            "image/png": "[encoded data removed]"
          },
          "metadata": {}
        }
      ]
    },
    {
      "cell_type": "code",
      "source": [],
      "metadata": {
        "id": "heBSR3iPZ3QA"
      },
      "execution_count": null,
      "outputs": []
    }
  ]
}