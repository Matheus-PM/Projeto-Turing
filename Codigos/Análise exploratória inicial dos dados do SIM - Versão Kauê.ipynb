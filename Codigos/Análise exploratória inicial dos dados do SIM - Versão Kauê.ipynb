{
  "cells": [
    {
      "cell_type": "markdown",
      "metadata": {
        "colab_type": "text",
        "id": "view-in-github"
      },
      "source": [
        "<a href=\"https://colab.research.google.com/github/SostenesJr/Projeto-Turing/blob/main/Teste_de_correla%C3%A7%C3%B5es_v_001.ipynb\" target=\"_parent\"><img src=\"https://colab.research.google.com/assets/colab-badge.svg\" alt=\"Open In Colab\"/></a>"
      ]
    },
    {
      "cell_type": "markdown",
      "metadata": {
        "id": "EAsFlr1Y8fiG"
      },
      "source": [
        "## Código Inicial — Levantamento Inicial, Visualização e Pré-Processamento dos Dados\n",
        "\n",
        "Neste bloco, realizo a visualização inicial do dataset do **Sistema de Informações sobre Mortalidade (SIM)**. Também inicio o cálculo de colunas dependentes da variável alvo.\n",
        "\n",
        "📄 **Fonte dos dados (CSV):**  \n",
        "https://s3.sa-east-1.amazonaws.com/ckan.saude.gov.br/SIM/DO23OPEN.csv\n",
        "\n",
        "📘 **Dicionário de Dados (Data Dictionary):**  \n",
        "https://diaad.s3.sa-east-1.amazonaws.com/sim/Mortalidade_Geral+-+Estrutura.pdf\n",
        "\n",
        " **Site Base dos dados:**  \n",
        "https://opendatasus.saude.gov.br/dataset/sim/\n",
        "\n",
        "**Documentação Pysus**"
      ]
    },
    {
      "cell_type": "markdown",
      "metadata": {
        "id": "dLEYjE2O9aLM"
      },
      "source": [
        "## Importando Bibliotecas e dados"
      ]
    },
    {
      "cell_type": "code",
      "execution_count": 1,
      "metadata": {
        "id": "FBdHDA8n6l56"
      },
      "outputs": [],
      "source": [
        "import pandas as pd\n",
        "import numpy as np\n",
        "import matplotlib.pyplot as plt\n",
        "import seaborn as sns\n",
        "from sklearn.metrics import classification_report, confusion_matrix"
      ]
    },
    {
      "cell_type": "markdown",
      "metadata": {
        "id": "tk2njFpFGKaF"
      },
      "source": [
        "## Importando conjunto de dados 2023 pelo frontend"
      ]
    },
    {
      "cell_type": "code",
      "execution_count": 2,
      "metadata": {
        "colab": {
          "base_uri": "https://localhost:8080/"
        },
        "id": "Qx0WVv6363ka",
        "outputId": "4136b345-67f6-4e32-fbe1-3635380922c3"
      },
      "outputs": [
        {
          "name": "stdout",
          "output_type": "stream",
          "text": [
            "   contador  ORIGEM  TIPOBITO   DTOBITO  HORAOBITO  NATURAL  CODMUNNATU  \\\n",
            "0         1       1         2  14022023      930.0    833.0    330270.0   \n",
            "1         2       1         2  14022023     1730.0    822.0    221110.0   \n",
            "2         3       1         2  14022023      500.0    822.0    220790.0   \n",
            "3         4       1         2  14022023     2235.0    823.0    231180.0   \n",
            "4         5       1         2  14022023      940.0    841.0    411350.0   \n",
            "\n",
            "       DTNASC  IDADE  SEXO  ...  TPRESGINFO  TPNIVELINV  DTCADINF  MORTEPARTO  \\\n",
            "0  10071954.0    468     1  ...         NaN         NaN       NaN         NaN   \n",
            "1  12091956.0    466     1  ...         NaN         NaN       NaN         NaN   \n",
            "2  10011953.0    470     2  ...         NaN         NaN       NaN         NaN   \n",
            "3  15121943.0    479     2  ...         NaN         NaN       NaN         NaN   \n",
            "4   9041973.0    449     2  ...         NaN           M       NaN         NaN   \n",
            "\n",
            "   DTCONCASO  ALTCAUSA  CAUSABAS_O  TPPOS  TP_ALTERA  CB_ALT  \n",
            "0        NaN       NaN         I10    NaN        NaN     NaN  \n",
            "1        NaN       NaN        I678    NaN        NaN     NaN  \n",
            "2        NaN       NaN        K750    NaN        NaN     NaN  \n",
            "3        NaN       NaN         I64      S        NaN     NaN  \n",
            "4        NaN       NaN        C189      S        NaN     NaN  \n",
            "\n",
            "[5 rows x 86 columns]\n"
          ]
        }
      ],
      "source": [
        "# URL do arquivo CSV\n",
        "url = \"https://s3.sa-east-1.amazonaws.com/ckan.saude.gov.br/SIM/DO23OPEN.csv\"\n",
        "\n",
        "# Lê o arquivo CSV diretamente da URL\n",
        "df = pd.read_csv(url, sep=';', encoding='latin1', low_memory=False)\n",
        "\n",
        "# Exibe as 5 primeiras linhas\n",
        "print(df.head())"
      ]
    },
    {
      "cell_type": "markdown",
      "metadata": {
        "id": "uJeXmPgLFBDc"
      },
      "source": [
        "## Visualização das colunas e 5 linhas"
      ]
    },
    {
      "cell_type": "code",
      "execution_count": 3,
      "metadata": {
        "colab": {
          "base_uri": "https://localhost:8080/",
          "height": 236
        },
        "id": "hyctNIuoxGuK",
        "outputId": "b8d721d6-7c04-407e-9d73-30f1c3c7b61c"
      },
      "outputs": [
        {
          "data": {
            "text/html": [
              "<div>\n",
              "<style scoped>\n",
              "    .dataframe tbody tr th:only-of-type {\n",
              "        vertical-align: middle;\n",
              "    }\n",
              "\n",
              "    .dataframe tbody tr th {\n",
              "        vertical-align: top;\n",
              "    }\n",
              "\n",
              "    .dataframe thead th {\n",
              "        text-align: right;\n",
              "    }\n",
              "</style>\n",
              "<table border=\"1\" class=\"dataframe\">\n",
              "  <thead>\n",
              "    <tr style=\"text-align: right;\">\n",
              "      <th></th>\n",
              "      <th>contador</th>\n",
              "      <th>ORIGEM</th>\n",
              "      <th>TIPOBITO</th>\n",
              "      <th>DTOBITO</th>\n",
              "      <th>HORAOBITO</th>\n",
              "      <th>NATURAL</th>\n",
              "      <th>CODMUNNATU</th>\n",
              "      <th>DTNASC</th>\n",
              "      <th>IDADE</th>\n",
              "      <th>SEXO</th>\n",
              "      <th>...</th>\n",
              "      <th>TPRESGINFO</th>\n",
              "      <th>TPNIVELINV</th>\n",
              "      <th>DTCADINF</th>\n",
              "      <th>MORTEPARTO</th>\n",
              "      <th>DTCONCASO</th>\n",
              "      <th>ALTCAUSA</th>\n",
              "      <th>CAUSABAS_O</th>\n",
              "      <th>TPPOS</th>\n",
              "      <th>TP_ALTERA</th>\n",
              "      <th>CB_ALT</th>\n",
              "    </tr>\n",
              "  </thead>\n",
              "  <tbody>\n",
              "    <tr>\n",
              "      <th>0</th>\n",
              "      <td>1</td>\n",
              "      <td>1</td>\n",
              "      <td>2</td>\n",
              "      <td>14022023</td>\n",
              "      <td>930.0</td>\n",
              "      <td>833.0</td>\n",
              "      <td>330270.0</td>\n",
              "      <td>10071954.0</td>\n",
              "      <td>468</td>\n",
              "      <td>1</td>\n",
              "      <td>...</td>\n",
              "      <td>NaN</td>\n",
              "      <td>NaN</td>\n",
              "      <td>NaN</td>\n",
              "      <td>NaN</td>\n",
              "      <td>NaN</td>\n",
              "      <td>NaN</td>\n",
              "      <td>I10</td>\n",
              "      <td>NaN</td>\n",
              "      <td>NaN</td>\n",
              "      <td>NaN</td>\n",
              "    </tr>\n",
              "    <tr>\n",
              "      <th>1</th>\n",
              "      <td>2</td>\n",
              "      <td>1</td>\n",
              "      <td>2</td>\n",
              "      <td>14022023</td>\n",
              "      <td>1730.0</td>\n",
              "      <td>822.0</td>\n",
              "      <td>221110.0</td>\n",
              "      <td>12091956.0</td>\n",
              "      <td>466</td>\n",
              "      <td>1</td>\n",
              "      <td>...</td>\n",
              "      <td>NaN</td>\n",
              "      <td>NaN</td>\n",
              "      <td>NaN</td>\n",
              "      <td>NaN</td>\n",
              "      <td>NaN</td>\n",
              "      <td>NaN</td>\n",
              "      <td>I678</td>\n",
              "      <td>NaN</td>\n",
              "      <td>NaN</td>\n",
              "      <td>NaN</td>\n",
              "    </tr>\n",
              "    <tr>\n",
              "      <th>2</th>\n",
              "      <td>3</td>\n",
              "      <td>1</td>\n",
              "      <td>2</td>\n",
              "      <td>14022023</td>\n",
              "      <td>500.0</td>\n",
              "      <td>822.0</td>\n",
              "      <td>220790.0</td>\n",
              "      <td>10011953.0</td>\n",
              "      <td>470</td>\n",
              "      <td>2</td>\n",
              "      <td>...</td>\n",
              "      <td>NaN</td>\n",
              "      <td>NaN</td>\n",
              "      <td>NaN</td>\n",
              "      <td>NaN</td>\n",
              "      <td>NaN</td>\n",
              "      <td>NaN</td>\n",
              "      <td>K750</td>\n",
              "      <td>NaN</td>\n",
              "      <td>NaN</td>\n",
              "      <td>NaN</td>\n",
              "    </tr>\n",
              "    <tr>\n",
              "      <th>3</th>\n",
              "      <td>4</td>\n",
              "      <td>1</td>\n",
              "      <td>2</td>\n",
              "      <td>14022023</td>\n",
              "      <td>2235.0</td>\n",
              "      <td>823.0</td>\n",
              "      <td>231180.0</td>\n",
              "      <td>15121943.0</td>\n",
              "      <td>479</td>\n",
              "      <td>2</td>\n",
              "      <td>...</td>\n",
              "      <td>NaN</td>\n",
              "      <td>NaN</td>\n",
              "      <td>NaN</td>\n",
              "      <td>NaN</td>\n",
              "      <td>NaN</td>\n",
              "      <td>NaN</td>\n",
              "      <td>I64</td>\n",
              "      <td>S</td>\n",
              "      <td>NaN</td>\n",
              "      <td>NaN</td>\n",
              "    </tr>\n",
              "    <tr>\n",
              "      <th>4</th>\n",
              "      <td>5</td>\n",
              "      <td>1</td>\n",
              "      <td>2</td>\n",
              "      <td>14022023</td>\n",
              "      <td>940.0</td>\n",
              "      <td>841.0</td>\n",
              "      <td>411350.0</td>\n",
              "      <td>9041973.0</td>\n",
              "      <td>449</td>\n",
              "      <td>2</td>\n",
              "      <td>...</td>\n",
              "      <td>NaN</td>\n",
              "      <td>M</td>\n",
              "      <td>NaN</td>\n",
              "      <td>NaN</td>\n",
              "      <td>NaN</td>\n",
              "      <td>NaN</td>\n",
              "      <td>C189</td>\n",
              "      <td>S</td>\n",
              "      <td>NaN</td>\n",
              "      <td>NaN</td>\n",
              "    </tr>\n",
              "  </tbody>\n",
              "</table>\n",
              "<p>5 rows × 86 columns</p>\n",
              "</div>"
            ],
            "text/plain": [
              "   contador  ORIGEM  TIPOBITO   DTOBITO  HORAOBITO  NATURAL  CODMUNNATU  \\\n",
              "0         1       1         2  14022023      930.0    833.0    330270.0   \n",
              "1         2       1         2  14022023     1730.0    822.0    221110.0   \n",
              "2         3       1         2  14022023      500.0    822.0    220790.0   \n",
              "3         4       1         2  14022023     2235.0    823.0    231180.0   \n",
              "4         5       1         2  14022023      940.0    841.0    411350.0   \n",
              "\n",
              "       DTNASC  IDADE  SEXO  ...  TPRESGINFO  TPNIVELINV  DTCADINF  MORTEPARTO  \\\n",
              "0  10071954.0    468     1  ...         NaN         NaN       NaN         NaN   \n",
              "1  12091956.0    466     1  ...         NaN         NaN       NaN         NaN   \n",
              "2  10011953.0    470     2  ...         NaN         NaN       NaN         NaN   \n",
              "3  15121943.0    479     2  ...         NaN         NaN       NaN         NaN   \n",
              "4   9041973.0    449     2  ...         NaN           M       NaN         NaN   \n",
              "\n",
              "   DTCONCASO  ALTCAUSA  CAUSABAS_O  TPPOS  TP_ALTERA  CB_ALT  \n",
              "0        NaN       NaN         I10    NaN        NaN     NaN  \n",
              "1        NaN       NaN        I678    NaN        NaN     NaN  \n",
              "2        NaN       NaN        K750    NaN        NaN     NaN  \n",
              "3        NaN       NaN         I64      S        NaN     NaN  \n",
              "4        NaN       NaN        C189      S        NaN     NaN  \n",
              "\n",
              "[5 rows x 86 columns]"
            ]
          },
          "execution_count": 3,
          "metadata": {},
          "output_type": "execute_result"
        }
      ],
      "source": [
        "df.head()"
      ]
    },
    {
      "cell_type": "markdown",
      "metadata": {
        "id": "bsqDJv4zFGmM"
      },
      "source": [
        "## Visualização das Colunas"
      ]
    },
    {
      "cell_type": "code",
      "execution_count": 4,
      "metadata": {
        "colab": {
          "base_uri": "https://localhost:8080/"
        },
        "id": "fDOrd6Be1APc",
        "outputId": "df3632ff-d2ed-43a8-f204-02282a39b69a"
      },
      "outputs": [
        {
          "data": {
            "text/plain": [
              "Index(['contador', 'ORIGEM', 'TIPOBITO', 'DTOBITO', 'HORAOBITO', 'NATURAL',\n",
              "       'CODMUNNATU', 'DTNASC', 'IDADE', 'SEXO', 'RACACOR', 'ESTCIV', 'ESC',\n",
              "       'ESC2010', 'SERIESCFAL', 'OCUP', 'CODMUNRES', 'LOCOCOR', 'CODESTAB',\n",
              "       'CODMUNOCOR', 'IDADEMAE', 'ESCMAE', 'ESCMAE2010', 'SERIESCMAE',\n",
              "       'OCUPMAE', 'QTDFILVIVO', 'QTDFILMORT', 'GRAVIDEZ', 'SEMAGESTAC',\n",
              "       'GESTACAO', 'PARTO', 'OBITOPARTO', 'PESO', 'TPMORTEOCO', 'OBITOGRAV',\n",
              "       'OBITOPUERP', 'ASSISTMED', 'EXAME', 'CIRURGIA', 'NECROPSIA', 'LINHAA',\n",
              "       'LINHAB', 'LINHAC', 'LINHAD', 'LINHAII', 'CAUSABAS', 'CB_PRE',\n",
              "       'COMUNSVOIM', 'DTATESTADO', 'CIRCOBITO', 'ACIDTRAB', 'FONTE',\n",
              "       'NUMEROLOTE', 'DTINVESTIG', 'DTCADASTRO', 'ATESTANTE', 'STCODIFICA',\n",
              "       'CODIFICADO', 'VERSAOSIST', 'VERSAOSCB', 'FONTEINV', 'DTRECEBIM',\n",
              "       'ATESTADO', 'DTRECORIGA', 'OPOR_DO', 'CAUSAMAT', 'ESCMAEAGR1',\n",
              "       'ESCFALAGR1', 'STDOEPIDEM', 'STDONOVA', 'DIFDATA', 'NUDIASOBCO',\n",
              "       'DTCADINV', 'TPOBITOCOR', 'DTCONINV', 'FONTES', 'TPRESGINFO',\n",
              "       'TPNIVELINV', 'DTCADINF', 'MORTEPARTO', 'DTCONCASO', 'ALTCAUSA',\n",
              "       'CAUSABAS_O', 'TPPOS', 'TP_ALTERA', 'CB_ALT'],\n",
              "      dtype='object')"
            ]
          },
          "execution_count": 4,
          "metadata": {},
          "output_type": "execute_result"
        }
      ],
      "source": [
        "df.columns"
      ]
    },
    {
      "cell_type": "markdown",
      "metadata": {
        "id": "sNJnB5I0FK38"
      },
      "source": [
        "## Tamanho do Dataframe"
      ]
    },
    {
      "cell_type": "code",
      "execution_count": 5,
      "metadata": {
        "colab": {
          "base_uri": "https://localhost:8080/"
        },
        "id": "Ue0HV_G11HVR",
        "outputId": "83727385-51cf-4d5c-a715-58fedb0f1328"
      },
      "outputs": [
        {
          "data": {
            "text/plain": [
              "(1465610, 86)"
            ]
          },
          "execution_count": 5,
          "metadata": {},
          "output_type": "execute_result"
        }
      ],
      "source": [
        "df.shape"
      ]
    },
    {
      "cell_type": "markdown",
      "metadata": {
        "id": "e2u5RuOkCWCl"
      },
      "source": [
        "## Limpeza"
      ]
    },
    {
      "cell_type": "code",
      "execution_count": 6,
      "metadata": {
        "colab": {
          "base_uri": "https://localhost:8080/"
        },
        "id": "-e2N8ns7CaxD",
        "outputId": "6eaea679-104d-434a-8445-86811d537cd2"
      },
      "outputs": [
        {
          "name": "stdout",
          "output_type": "stream",
          "text": [
            "Shape of the DataFrame after removing nulls in 'CIRCOBITO':\n",
            "(153897, 86)\n",
            "\n",
            "Null count in 'CIRCOBITO' after cleaning:\n",
            "0\n"
          ]
        }
      ],
      "source": [
        "# Remove rows where 'CIRCOBITO' is null\n",
        "df_cleaned_circo = df.dropna(subset=['CIRCOBITO']).copy()\n",
        "\n",
        "# Display the shape of the cleaned DataFrame\n",
        "print(\"Shape of the DataFrame after removing nulls in 'CIRCOBITO':\")\n",
        "print(df_cleaned_circo.shape)\n",
        "\n",
        "# Display the count of nulls in 'CIRCOBITO' in the cleaned DataFrame\n",
        "print(\"\\nNull count in 'CIRCOBITO' after cleaning:\")\n",
        "print(df_cleaned_circo['CIRCOBITO'].isnull().sum())"
      ]
    },
    {
      "cell_type": "markdown",
      "metadata": {
        "id": "Mz7n-vDMFr8v"
      },
      "source": [
        "## Analise para verificar os nulos"
      ]
    },
    {
      "cell_type": "code",
      "execution_count": 7,
      "metadata": {
        "id": "vP6JVpK8FpV8"
      },
      "outputs": [
        {
          "name": "stdout",
          "output_type": "stream",
          "text": [
            "Análise da coluna CIRCOBITO (%):\n",
            "- Valores nulos (NaN/None): 89.50%\n",
            "- Valores em branco (''): 0.00%\n",
            "- Texto 'NaN': 89.50%\n",
            "- Valores numéricos válidos: 10.50%\n",
            "- Temos 153897 dados para trabalhar\n"
          ]
        }
      ],
      "source": [
        "# Total de entradas\n",
        "total = len(df)\n",
        "coluna = 'CIRCOBITO'\n",
        "\n",
        "# Verificações\n",
        "nulos = df[coluna].isnull().sum()\n",
        "vazios = (df[coluna] == '').sum()\n",
        "nan_texto = (df[coluna].astype(str).str.upper() == 'NAN').sum()\n",
        "\n",
        "# Numéricos (exclui NaN e vazios antes de checar)\n",
        "numericos = pd.to_numeric(df[coluna], errors='coerce').notna().sum()\n",
        "\n",
        "# Percentuais\n",
        "print(f\"Análise da coluna {coluna} (%):\")\n",
        "print(f\"- Valores nulos (NaN/None): {nulos / total:.2%}\")\n",
        "print(f\"- Valores em branco (''): {vazios / total:.2%}\")\n",
        "print(f\"- Texto 'NaN': {nan_texto / total:.2%}\")\n",
        "print(f\"- Valores numéricos válidos: {numericos / total:.2%}\")\n",
        "print(f\"- Temos {df.shape[0] - nulos} dados para trabalhar\")"
      ]
    },
    {
      "cell_type": "markdown",
      "metadata": {
        "id": "KeaxwZYhDvud"
      },
      "source": [
        "## Coluna Limpa do dataframe"
      ]
    },
    {
      "cell_type": "code",
      "execution_count": 8,
      "metadata": {
        "colab": {
          "base_uri": "https://localhost:8080/",
          "height": 272
        },
        "id": "9J0s2Q8X2yib",
        "outputId": "551e0679-b95d-452f-9bcd-6ea99faa131e"
      },
      "outputs": [
        {
          "data": {
            "text/plain": [
              "CIRCOBITO\n",
              "1.0    68526\n",
              "3.0    41613\n",
              "9.0    22491\n",
              "2.0    16259\n",
              "4.0     5008\n",
              "Name: count, dtype: int64"
            ]
          },
          "execution_count": 8,
          "metadata": {},
          "output_type": "execute_result"
        }
      ],
      "source": [
        "df_cleaned_circo['CIRCOBITO'].value_counts()"
      ]
    },
    {
      "cell_type": "markdown",
      "metadata": {
        "id": "O0NcJI6wFZIs"
      },
      "source": []
    },
    {
      "cell_type": "code",
      "execution_count": 9,
      "metadata": {
        "id": "F8X9nw1k3jT0"
      },
      "outputs": [],
      "source": [
        "df_suicidio = df[df['CIRCOBITO'] == 2]"
      ]
    },
    {
      "cell_type": "code",
      "execution_count": 10,
      "metadata": {
        "colab": {
          "base_uri": "https://localhost:8080/",
          "height": 424
        },
        "id": "8Kok3-Pa4dgx",
        "outputId": "fc95429d-4da1-44e2-8f4c-128d5ddac2ed"
      },
      "outputs": [
        {
          "data": {
            "text/html": [
              "<div>\n",
              "<style scoped>\n",
              "    .dataframe tbody tr th:only-of-type {\n",
              "        vertical-align: middle;\n",
              "    }\n",
              "\n",
              "    .dataframe tbody tr th {\n",
              "        vertical-align: top;\n",
              "    }\n",
              "\n",
              "    .dataframe thead th {\n",
              "        text-align: right;\n",
              "    }\n",
              "</style>\n",
              "<table border=\"1\" class=\"dataframe\">\n",
              "  <thead>\n",
              "    <tr style=\"text-align: right;\">\n",
              "      <th></th>\n",
              "      <th>contador</th>\n",
              "      <th>ORIGEM</th>\n",
              "      <th>TIPOBITO</th>\n",
              "      <th>DTOBITO</th>\n",
              "      <th>HORAOBITO</th>\n",
              "      <th>NATURAL</th>\n",
              "      <th>CODMUNNATU</th>\n",
              "      <th>DTNASC</th>\n",
              "      <th>IDADE</th>\n",
              "      <th>SEXO</th>\n",
              "      <th>...</th>\n",
              "      <th>TPRESGINFO</th>\n",
              "      <th>TPNIVELINV</th>\n",
              "      <th>DTCADINF</th>\n",
              "      <th>MORTEPARTO</th>\n",
              "      <th>DTCONCASO</th>\n",
              "      <th>ALTCAUSA</th>\n",
              "      <th>CAUSABAS_O</th>\n",
              "      <th>TPPOS</th>\n",
              "      <th>TP_ALTERA</th>\n",
              "      <th>CB_ALT</th>\n",
              "    </tr>\n",
              "  </thead>\n",
              "  <tbody>\n",
              "    <tr>\n",
              "      <th>9</th>\n",
              "      <td>10</td>\n",
              "      <td>1</td>\n",
              "      <td>2</td>\n",
              "      <td>14022023</td>\n",
              "      <td>2024.0</td>\n",
              "      <td>843.0</td>\n",
              "      <td>431490.0</td>\n",
              "      <td>26021981.0</td>\n",
              "      <td>441</td>\n",
              "      <td>2</td>\n",
              "      <td>...</td>\n",
              "      <td>NaN</td>\n",
              "      <td>M</td>\n",
              "      <td>NaN</td>\n",
              "      <td>NaN</td>\n",
              "      <td>NaN</td>\n",
              "      <td>NaN</td>\n",
              "      <td>X700</td>\n",
              "      <td>S</td>\n",
              "      <td>NaN</td>\n",
              "      <td>NaN</td>\n",
              "    </tr>\n",
              "    <tr>\n",
              "      <th>102</th>\n",
              "      <td>103</td>\n",
              "      <td>1</td>\n",
              "      <td>2</td>\n",
              "      <td>1012023</td>\n",
              "      <td>NaN</td>\n",
              "      <td>842.0</td>\n",
              "      <td>420540.0</td>\n",
              "      <td>9051982.0</td>\n",
              "      <td>440</td>\n",
              "      <td>2</td>\n",
              "      <td>...</td>\n",
              "      <td>NaN</td>\n",
              "      <td>M</td>\n",
              "      <td>NaN</td>\n",
              "      <td>NaN</td>\n",
              "      <td>NaN</td>\n",
              "      <td>NaN</td>\n",
              "      <td>X804</td>\n",
              "      <td>S</td>\n",
              "      <td>NaN</td>\n",
              "      <td>NaN</td>\n",
              "    </tr>\n",
              "    <tr>\n",
              "      <th>160</th>\n",
              "      <td>161</td>\n",
              "      <td>1</td>\n",
              "      <td>2</td>\n",
              "      <td>1012023</td>\n",
              "      <td>NaN</td>\n",
              "      <td>NaN</td>\n",
              "      <td>NaN</td>\n",
              "      <td>29111990.0</td>\n",
              "      <td>432</td>\n",
              "      <td>2</td>\n",
              "      <td>...</td>\n",
              "      <td>NaN</td>\n",
              "      <td>M</td>\n",
              "      <td>NaN</td>\n",
              "      <td>NaN</td>\n",
              "      <td>NaN</td>\n",
              "      <td>NaN</td>\n",
              "      <td>X689</td>\n",
              "      <td>S</td>\n",
              "      <td>NaN</td>\n",
              "      <td>NaN</td>\n",
              "    </tr>\n",
              "    <tr>\n",
              "      <th>184</th>\n",
              "      <td>185</td>\n",
              "      <td>1</td>\n",
              "      <td>2</td>\n",
              "      <td>1012023</td>\n",
              "      <td>NaN</td>\n",
              "      <td>843.0</td>\n",
              "      <td>432070.0</td>\n",
              "      <td>7121962.0</td>\n",
              "      <td>460</td>\n",
              "      <td>1</td>\n",
              "      <td>...</td>\n",
              "      <td>NaN</td>\n",
              "      <td>NaN</td>\n",
              "      <td>NaN</td>\n",
              "      <td>NaN</td>\n",
              "      <td>NaN</td>\n",
              "      <td>NaN</td>\n",
              "      <td>X804</td>\n",
              "      <td>N</td>\n",
              "      <td>NaN</td>\n",
              "      <td>NaN</td>\n",
              "    </tr>\n",
              "    <tr>\n",
              "      <th>185</th>\n",
              "      <td>186</td>\n",
              "      <td>1</td>\n",
              "      <td>2</td>\n",
              "      <td>1012023</td>\n",
              "      <td>NaN</td>\n",
              "      <td>843.0</td>\n",
              "      <td>432260.0</td>\n",
              "      <td>15011991.0</td>\n",
              "      <td>431</td>\n",
              "      <td>1</td>\n",
              "      <td>...</td>\n",
              "      <td>NaN</td>\n",
              "      <td>NaN</td>\n",
              "      <td>NaN</td>\n",
              "      <td>NaN</td>\n",
              "      <td>NaN</td>\n",
              "      <td>NaN</td>\n",
              "      <td>X704</td>\n",
              "      <td>N</td>\n",
              "      <td>NaN</td>\n",
              "      <td>NaN</td>\n",
              "    </tr>\n",
              "    <tr>\n",
              "      <th>...</th>\n",
              "      <td>...</td>\n",
              "      <td>...</td>\n",
              "      <td>...</td>\n",
              "      <td>...</td>\n",
              "      <td>...</td>\n",
              "      <td>...</td>\n",
              "      <td>...</td>\n",
              "      <td>...</td>\n",
              "      <td>...</td>\n",
              "      <td>...</td>\n",
              "      <td>...</td>\n",
              "      <td>...</td>\n",
              "      <td>...</td>\n",
              "      <td>...</td>\n",
              "      <td>...</td>\n",
              "      <td>...</td>\n",
              "      <td>...</td>\n",
              "      <td>...</td>\n",
              "      <td>...</td>\n",
              "      <td>...</td>\n",
              "      <td>...</td>\n",
              "    </tr>\n",
              "    <tr>\n",
              "      <th>1465530</th>\n",
              "      <td>1465531</td>\n",
              "      <td>2</td>\n",
              "      <td>2</td>\n",
              "      <td>18112023</td>\n",
              "      <td>NaN</td>\n",
              "      <td>831.0</td>\n",
              "      <td>316050.0</td>\n",
              "      <td>15081970.0</td>\n",
              "      <td>453</td>\n",
              "      <td>1</td>\n",
              "      <td>...</td>\n",
              "      <td>NaN</td>\n",
              "      <td>NaN</td>\n",
              "      <td>NaN</td>\n",
              "      <td>NaN</td>\n",
              "      <td>NaN</td>\n",
              "      <td>NaN</td>\n",
              "      <td>NaN</td>\n",
              "      <td>NaN</td>\n",
              "      <td>NaN</td>\n",
              "      <td>NaN</td>\n",
              "    </tr>\n",
              "    <tr>\n",
              "      <th>1465589</th>\n",
              "      <td>1465590</td>\n",
              "      <td>1</td>\n",
              "      <td>2</td>\n",
              "      <td>27092023</td>\n",
              "      <td>2000.0</td>\n",
              "      <td>816.0</td>\n",
              "      <td>160015.0</td>\n",
              "      <td>26032005.0</td>\n",
              "      <td>418</td>\n",
              "      <td>1</td>\n",
              "      <td>...</td>\n",
              "      <td>NaN</td>\n",
              "      <td>NaN</td>\n",
              "      <td>NaN</td>\n",
              "      <td>NaN</td>\n",
              "      <td>NaN</td>\n",
              "      <td>NaN</td>\n",
              "      <td>NaN</td>\n",
              "      <td>NaN</td>\n",
              "      <td>NaN</td>\n",
              "      <td>NaN</td>\n",
              "    </tr>\n",
              "    <tr>\n",
              "      <th>1465595</th>\n",
              "      <td>1465596</td>\n",
              "      <td>1</td>\n",
              "      <td>2</td>\n",
              "      <td>1112023</td>\n",
              "      <td>1900.0</td>\n",
              "      <td>813.0</td>\n",
              "      <td>130140.0</td>\n",
              "      <td>1012011.0</td>\n",
              "      <td>412</td>\n",
              "      <td>2</td>\n",
              "      <td>...</td>\n",
              "      <td>NaN</td>\n",
              "      <td>E</td>\n",
              "      <td>NaN</td>\n",
              "      <td>NaN</td>\n",
              "      <td>NaN</td>\n",
              "      <td>NaN</td>\n",
              "      <td>NaN</td>\n",
              "      <td>NaN</td>\n",
              "      <td>NaN</td>\n",
              "      <td>NaN</td>\n",
              "    </tr>\n",
              "    <tr>\n",
              "      <th>1465603</th>\n",
              "      <td>1465604</td>\n",
              "      <td>1</td>\n",
              "      <td>2</td>\n",
              "      <td>26112023</td>\n",
              "      <td>1540.0</td>\n",
              "      <td>813.0</td>\n",
              "      <td>130140.0</td>\n",
              "      <td>1012002.0</td>\n",
              "      <td>421</td>\n",
              "      <td>2</td>\n",
              "      <td>...</td>\n",
              "      <td>NaN</td>\n",
              "      <td>E</td>\n",
              "      <td>NaN</td>\n",
              "      <td>NaN</td>\n",
              "      <td>NaN</td>\n",
              "      <td>NaN</td>\n",
              "      <td>NaN</td>\n",
              "      <td>NaN</td>\n",
              "      <td>NaN</td>\n",
              "      <td>NaN</td>\n",
              "    </tr>\n",
              "    <tr>\n",
              "      <th>1465608</th>\n",
              "      <td>1465609</td>\n",
              "      <td>1</td>\n",
              "      <td>2</td>\n",
              "      <td>22122023</td>\n",
              "      <td>2030.0</td>\n",
              "      <td>813.0</td>\n",
              "      <td>130140.0</td>\n",
              "      <td>1012008.0</td>\n",
              "      <td>415</td>\n",
              "      <td>2</td>\n",
              "      <td>...</td>\n",
              "      <td>NaN</td>\n",
              "      <td>E</td>\n",
              "      <td>NaN</td>\n",
              "      <td>NaN</td>\n",
              "      <td>NaN</td>\n",
              "      <td>NaN</td>\n",
              "      <td>NaN</td>\n",
              "      <td>NaN</td>\n",
              "      <td>NaN</td>\n",
              "      <td>NaN</td>\n",
              "    </tr>\n",
              "  </tbody>\n",
              "</table>\n",
              "<p>16259 rows × 86 columns</p>\n",
              "</div>"
            ],
            "text/plain": [
              "         contador  ORIGEM  TIPOBITO   DTOBITO  HORAOBITO  NATURAL  CODMUNNATU  \\\n",
              "9              10       1         2  14022023     2024.0    843.0    431490.0   \n",
              "102           103       1         2   1012023        NaN    842.0    420540.0   \n",
              "160           161       1         2   1012023        NaN      NaN         NaN   \n",
              "184           185       1         2   1012023        NaN    843.0    432070.0   \n",
              "185           186       1         2   1012023        NaN    843.0    432260.0   \n",
              "...           ...     ...       ...       ...        ...      ...         ...   \n",
              "1465530   1465531       2         2  18112023        NaN    831.0    316050.0   \n",
              "1465589   1465590       1         2  27092023     2000.0    816.0    160015.0   \n",
              "1465595   1465596       1         2   1112023     1900.0    813.0    130140.0   \n",
              "1465603   1465604       1         2  26112023     1540.0    813.0    130140.0   \n",
              "1465608   1465609       1         2  22122023     2030.0    813.0    130140.0   \n",
              "\n",
              "             DTNASC  IDADE  SEXO  ...  TPRESGINFO  TPNIVELINV  DTCADINF  \\\n",
              "9        26021981.0    441     2  ...         NaN           M       NaN   \n",
              "102       9051982.0    440     2  ...         NaN           M       NaN   \n",
              "160      29111990.0    432     2  ...         NaN           M       NaN   \n",
              "184       7121962.0    460     1  ...         NaN         NaN       NaN   \n",
              "185      15011991.0    431     1  ...         NaN         NaN       NaN   \n",
              "...             ...    ...   ...  ...         ...         ...       ...   \n",
              "1465530  15081970.0    453     1  ...         NaN         NaN       NaN   \n",
              "1465589  26032005.0    418     1  ...         NaN         NaN       NaN   \n",
              "1465595   1012011.0    412     2  ...         NaN           E       NaN   \n",
              "1465603   1012002.0    421     2  ...         NaN           E       NaN   \n",
              "1465608   1012008.0    415     2  ...         NaN           E       NaN   \n",
              "\n",
              "         MORTEPARTO  DTCONCASO  ALTCAUSA  CAUSABAS_O  TPPOS  TP_ALTERA  CB_ALT  \n",
              "9               NaN        NaN       NaN        X700      S        NaN     NaN  \n",
              "102             NaN        NaN       NaN        X804      S        NaN     NaN  \n",
              "160             NaN        NaN       NaN        X689      S        NaN     NaN  \n",
              "184             NaN        NaN       NaN        X804      N        NaN     NaN  \n",
              "185             NaN        NaN       NaN        X704      N        NaN     NaN  \n",
              "...             ...        ...       ...         ...    ...        ...     ...  \n",
              "1465530         NaN        NaN       NaN         NaN    NaN        NaN     NaN  \n",
              "1465589         NaN        NaN       NaN         NaN    NaN        NaN     NaN  \n",
              "1465595         NaN        NaN       NaN         NaN    NaN        NaN     NaN  \n",
              "1465603         NaN        NaN       NaN         NaN    NaN        NaN     NaN  \n",
              "1465608         NaN        NaN       NaN         NaN    NaN        NaN     NaN  \n",
              "\n",
              "[16259 rows x 86 columns]"
            ]
          },
          "execution_count": 10,
          "metadata": {},
          "output_type": "execute_result"
        }
      ],
      "source": [
        "df_suicidio"
      ]
    },
    {
      "cell_type": "markdown",
      "metadata": {
        "id": "LC5jl4nS8Xub"
      },
      "source": [
        "## Se refere ao atendimento médico continuado que o paciente recebeu, ou não,durante a enfermidade que ocasionou o óbito. (1 – sim; 2 – não; 9 – ignorado)"
      ]
    },
    {
      "cell_type": "code",
      "execution_count": 11,
      "metadata": {
        "colab": {
          "base_uri": "https://localhost:8080/",
          "height": 210
        },
        "id": "AV8wIa354iLl",
        "outputId": "65d44fed-22e3-4ab3-9692-657e6ee0cc54"
      },
      "outputs": [
        {
          "data": {
            "text/plain": [
              "ASSISTMED\n",
              "2.0    9995\n",
              "1.0    2420\n",
              "9.0    1145\n",
              "Name: count, dtype: int64"
            ]
          },
          "execution_count": 11,
          "metadata": {},
          "output_type": "execute_result"
        }
      ],
      "source": [
        "df_suicidio['ASSISTMED'].value_counts()"
      ]
    },
    {
      "cell_type": "markdown",
      "metadata": {
        "id": "i2JDG-WWG8BU"
      },
      "source": [
        "## Tipo de morte violenta ou circunstâncias em que se deu a morte não natural.(1 – acidente; 2 – suicídio; 3 – homicídio; 4 – outros; 9 – ignorado)"
      ]
    },
    {
      "cell_type": "code",
      "execution_count": 12,
      "metadata": {
        "id": "Vpk413-CGwHE"
      },
      "outputs": [],
      "source": [
        "df_suicidio = df[df['CIRCOBITO'] == 2]"
      ]
    },
    {
      "cell_type": "markdown",
      "metadata": {
        "id": "A-34YryxHMw2"
      },
      "source": [
        "## Grafico de Pizza sobre as % de cada obito"
      ]
    },
    {
      "cell_type": "code",
      "execution_count": 13,
      "metadata": {
        "colab": {
          "base_uri": "https://localhost:8080/",
          "height": 675
        },
        "id": "qPPbddpP1kPN",
        "outputId": "abc85a15-c392-488d-befd-82f383b94db2"
      },
      "outputs": [
        {
          "data": {
            "image/png": "[encoded data removed]",
            "text/plain": [
              "<Figure size 700x800 with 1 Axes>"
            ]
          },
          "metadata": {},
          "output_type": "display_data"
        }
      ],
      "source": [
        "# Estilo visual do Seaborn\n",
        "sns.set(style=\"whitegrid\")\n",
        "\n",
        "# Substitui os códigos pelos nomes\n",
        "df['CIRCOBITO_LABEL'] = df['CIRCOBITO'].map({\n",
        "    1: 'Acidente',\n",
        "    2: 'Suicídio',\n",
        "    3: 'Homicídio',\n",
        "    4: 'Outros',\n",
        "    9: 'Ignorado'\n",
        "})\n",
        "\n",
        "# Conta os valores e calcula a porcentagem\n",
        "circo_counts = df['CIRCOBITO_LABEL'].value_counts()\n",
        "circo_percent = circo_counts / circo_counts.sum() * 100\n",
        "\n",
        "# Gráfico de pizza\n",
        "plt.figure(figsize=(7, 8))\n",
        "plt.pie(\n",
        "    circo_percent,\n",
        "    labels=circo_percent.index,\n",
        "    autopct='%1.1f%%',\n",
        "    startangle=85\n",
        ")\n",
        "plt.title('Distribuição percentual das circunstâncias das mortes não naturais 2023 base Data/SUS')\n",
        "plt.axis('equal')  # Mantém o formato circular\n",
        "plt.show()"
      ]
    },
    {
      "cell_type": "markdown",
      "metadata": {
        "id": "T-IfJjwtHUHs"
      },
      "source": [
        "## Matriz de Confusão -- Assistmed"
      ]
    },
    {
      "cell_type": "code",
      "execution_count": 14,
      "metadata": {
        "colab": {
          "base_uri": "https://localhost:8080/"
        },
        "id": "rrwJDKDV8yz6",
        "outputId": "2960dd17-e896-47af-e173-51d9abfe5efa"
      },
      "outputs": [
        {
          "name": "stdout",
          "output_type": "stream",
          "text": [
            "--- DataFrame Final com Alvo e Palpite ---\n",
            "         contador  ORIGEM  TIPOBITO   DTOBITO  HORAOBITO  NATURAL  CODMUNNATU  \\\n",
            "5               6       1         2  14022023      906.0    835.0    355330.0   \n",
            "9              10       1         2  14022023     2024.0    843.0    431490.0   \n",
            "22             23       1         2  14022023     2140.0    835.0    352430.0   \n",
            "39             40       1         2   1012023     1027.0    824.0    240810.0   \n",
            "47             48       1         2   1012023     1450.0    835.0    355030.0   \n",
            "...           ...     ...       ...       ...        ...      ...         ...   \n",
            "1465589   1465590       1         2  27092023     2000.0    816.0    160015.0   \n",
            "1465595   1465596       1         2   1112023     1900.0    813.0    130140.0   \n",
            "1465600   1465601       1         2  10112023     2300.0    816.0    160030.0   \n",
            "1465603   1465604       1         2  26112023     1540.0    813.0    130140.0   \n",
            "1465608   1465609       1         2  22122023     2030.0    813.0    130140.0   \n",
            "\n",
            "             DTNASC  IDADE  SEXO  ...   DTCADINF  MORTEPARTO  DTCONCASO  \\\n",
            "5        14091947.0    475     1  ...        NaN         NaN        NaN   \n",
            "9        26021981.0    441     2  ...        NaN         NaN        NaN   \n",
            "22        3031971.0    451     1  ...        NaN         NaN        NaN   \n",
            "39        8121998.0    424     1  ...        NaN         NaN        NaN   \n",
            "47        7121988.0    434     1  ...        NaN         NaN        NaN   \n",
            "...             ...    ...   ...  ...        ...         ...        ...   \n",
            "1465589  26032005.0    418     1  ...        NaN         NaN        NaN   \n",
            "1465595   1012011.0    412     2  ...        NaN         NaN        NaN   \n",
            "1465600   7042021.0    402     1  ...  8052024.0         3.0  8052024.0   \n",
            "1465603   1012002.0    421     2  ...        NaN         NaN        NaN   \n",
            "1465608   1012008.0    415     2  ...        NaN         NaN        NaN   \n",
            "\n",
            "         ALTCAUSA  CAUSABAS_O  TPPOS  TP_ALTERA  CB_ALT  alvo  \\\n",
            "5             NaN        W188      S        NaN     NaN     0   \n",
            "9             NaN        X700      S        NaN     NaN     1   \n",
            "22            NaN        V144      S        NaN     NaN     0   \n",
            "39            NaN        V234      N        NaN     NaN     0   \n",
            "47            NaN        W748      N        NaN     NaN     0   \n",
            "...           ...         ...    ...        ...     ...   ...   \n",
            "1465589       NaN         NaN    NaN        NaN     NaN     1   \n",
            "1465595       NaN         NaN    NaN        NaN     NaN     1   \n",
            "1465600       1.0         NaN    NaN        NaN     NaN     0   \n",
            "1465603       NaN         NaN    NaN        NaN     NaN     1   \n",
            "1465608       NaN         NaN    NaN        NaN     NaN     1   \n",
            "\n",
            "         palpite_assistmed  \n",
            "5                        0  \n",
            "9                        1  \n",
            "22                       1  \n",
            "39                       0  \n",
            "47                       0  \n",
            "...                    ...  \n",
            "1465589                  1  \n",
            "1465595                  0  \n",
            "1465600                  0  \n",
            "1465603                  0  \n",
            "1465608                  1  \n",
            "\n",
            "[153897 rows x 88 columns]\n",
            "\n",
            "========================================\n",
            "\n",
            "--- Avaliação da Hipótese (ASSISTMED prevê Suicídio) ---\n",
            "\n",
            "Matriz de Confusão:\n",
            "[[62860 45634]\n",
            " [ 5119  9995]]\n",
            "\n",
            "Relatório de Classificação:\n",
            "                  precision    recall  f1-score   support\n",
            "\n",
            "Não Suicídio (0)       0.92      0.58      0.71    108494\n",
            "    Suicídio (1)       0.18      0.66      0.28     15114\n",
            "\n",
            "        accuracy                           0.59    123608\n",
            "       macro avg       0.55      0.62      0.50    123608\n",
            "    weighted avg       0.83      0.59      0.66    123608\n",
            "\n"
          ]
        }
      ],
      "source": [
        "# 2. CRIAÇÃO DA VARIÁVEL ALVO\n",
        "# O alvo é 1 se CIRCOBITO for 2, senão é 0.\n",
        "df_cleaned_circo['alvo'] = (df_cleaned_circo['CIRCOBITO'] == 2).astype(int)\n",
        "\n",
        "\n",
        "# 3. CRIAÇÃO DO \"PALPITE\" BASEADO NA ASSISTÊNCIA MÉDICA\n",
        "# Nossa hipótese: prever suicídio (1) se ASSISTMED for 2 (Não recebeu assistência).\n",
        "df_cleaned_circo['palpite_assistmed'] = (df_cleaned_circo['ASSISTMED'] == 2).astype(int)\n",
        "\n",
        "print(\"--- DataFrame Final com Alvo e Palpite ---\")\n",
        "print(df_cleaned_circo)\n",
        "print(\"\\n\" + \"=\"*40 + \"\\n\")\n",
        "\n",
        "\n",
        "# 4. AVALIAÇÃO DA QUALIDADE DO PALPITE\n",
        "# Removemos registros com dados ignorados (código 9) para uma avaliação justa\n",
        "df_valido = df_cleaned_circo.query('CIRCOBITO != 9 and ASSISTMED != 9').copy()\n",
        "\n",
        "if not df_valido.empty:\n",
        "    y_true = df_valido['alvo']\n",
        "    y_pred = df_valido['palpite_assistmed']\n",
        "\n",
        "    print(\"--- Avaliação da Hipótese (ASSISTMED prevê Suicídio) ---\")\n",
        "\n",
        "    # Matriz de Confusão\n",
        "    print(\"\\nMatriz de Confusão:\")\n",
        "    print(confusion_matrix(y_true, y_pred))\n",
        "\n",
        "    # Relatório Completo\n",
        "    print(\"\\nRelatório de Classificação:\")\n",
        "    print(classification_report(y_true, y_pred, target_names=['Não Suicídio (0)', 'Suicídio (1)']))\n",
        "else:\n",
        "    print(\"Não há dados válidos para avaliação após a filtragem.\")"
      ]
    }
  ],
  "metadata": {
    "colab": {
      "include_colab_link": true,
      "provenance": []
    },
    "kernelspec": {
      "display_name": "base",
      "language": "python",
      "name": "python3"
    },
    "language_info": {
      "codemirror_mode": {
        "name": "ipython",
        "version": 3
      },
      "file_extension": ".py",
      "mimetype": "text/x-python",
      "name": "python",
      "nbconvert_exporter": "python",
      "pygments_lexer": "ipython3",
      "version": "3.11.7"
    }
  },
  "nbformat": 4,
  "nbformat_minor": 0
}
